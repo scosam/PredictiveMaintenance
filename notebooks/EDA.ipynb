{
 "cells": [
  {
   "cell_type": "markdown",
   "metadata": {},
   "source": [
    "# Introduction"
   ]
  },
  {
   "cell_type": "markdown",
   "metadata": {},
   "source": [
    "The dataset being explored was provided by Microsoft to show how Azure could be used for an end-to-end machine learning platform, capable of building and deplying models. The data set consists of five tables:  \n",
    "1. Machine Meta Data - associates a machine's ID number to its model type and age  \n",
    "2. Error Log - log of when an error occured, the type of error that occurred, and the machine it occurred on. An error does not cause the machine to shut down.  \n",
    "3. Failure Log - log of when a failure occured, and the machine it occurred on.  \n",
    "4. Maintenance Log - log of when maintenanced was performed, and the machine it occurred on. Does not differntiate between if it was planned maintenance or unplanned maintenance.  \n",
    "5. Telemetry Data - Hourly average machine sensor data for each machine. Data included is the machines voltage, rotation, pressure, and vibration.  \n",
    "\n",
    "This data can be found through [Kaggle](https://www.kaggle.com/arnabbiswas1/microsoft-azure-predictive-maintenance) or through www.azuremlsampleexperiments.blob.core.windows.net/datasets  \n",
    "\n",
    "The data was collected hourly for the entirety of 2015, so there are 8,736 rows of data for each machine. The goal for this data is to use it to be able to predict when a failure will occur at least 4 hours in advance, so it can be properly shut down and maintenance personnel can be dispatched."
   ]
  },
  {
   "cell_type": "markdown",
   "metadata": {},
   "source": [
    "# Import Data & Libraries"
   ]
  },
  {
   "cell_type": "code",
   "execution_count": 16,
   "metadata": {},
   "outputs": [],
   "source": [
    "import pandas as pd\n",
    "import numpy as np\n",
    "import matplotlib.pyplot as plt\n",
    "import scipy as sp\n",
    "import os\n",
    "import seaborn as sns\n",
    "import datetime as dt"
   ]
  },
  {
   "cell_type": "code",
   "execution_count": 2,
   "metadata": {},
   "outputs": [],
   "source": [
    "wd = os.getcwd()\n",
    "base_path = wd.replace('notebooks', 'data')\n",
    "\n",
    "# Machine Meta Data \n",
    "mach_meta = pd.read_csv(base_path + '\\\\PdM_machines.csv')\n",
    "\n",
    "# Error Logs\n",
    "err_log = pd.read_csv(base_path + '\\\\PdM_errors.csv')\n",
    "\n",
    "# Failure Logs\n",
    "fail_log = pd.read_csv(base_path + '\\\\PdM_failures.csv')\n",
    "\n",
    "# Maintenance Logs\n",
    "maint_log = pd.read_csv(base_path + '\\\\PdM_maint.csv')\n",
    "\n",
    "# Sensor Data\n",
    "sens_data = pd.read_csv(base_path + '\\\\PdM_telemetry.csv')"
   ]
  },
  {
   "cell_type": "markdown",
   "metadata": {},
   "source": [
    "# Exploratory Data Analysis"
   ]
  },
  {
   "cell_type": "markdown",
   "metadata": {},
   "source": [
    "### Questions to Answer:  \n",
    "1. Are there major differences in the machine models?  \n",
    "2. Do older computers have more failures/ errors?  \n",
    "3. Is there a trend in the failure/ error rates?  \n",
    "4. Which computers experience the most/least failures? is it related to a certain model?  \n",
    "5. What does the distibution of failures look like?  \n",
    "6. Are all machines maintained at the same schedule if no failure occurs?  \n",
    "7. Do certain errors result in failures more often?  \n",
    "8. Are there any trends in the sensor data?  \n",
    "\n",
    "\n",
    "Notes for self:  \n",
    "fast way to calculate trends is correlation coefficient and R^2 value\n",
    "Overlay when errors/ failures/ maintenance occurred on the trend data.\n",
    "Divide total number of failures by the number of computers of that type - percentage\n"
   ]
  },
  {
   "cell_type": "markdown",
   "metadata": {},
   "source": [
    "## Machine Data"
   ]
  },
  {
   "cell_type": "code",
   "execution_count": 3,
   "metadata": {},
   "outputs": [
    {
     "data": {
      "text/html": [
       "<div>\n",
       "<style scoped>\n",
       "    .dataframe tbody tr th:only-of-type {\n",
       "        vertical-align: middle;\n",
       "    }\n",
       "\n",
       "    .dataframe tbody tr th {\n",
       "        vertical-align: top;\n",
       "    }\n",
       "\n",
       "    .dataframe thead th {\n",
       "        text-align: right;\n",
       "    }\n",
       "</style>\n",
       "<table border=\"1\" class=\"dataframe\">\n",
       "  <thead>\n",
       "    <tr style=\"text-align: right;\">\n",
       "      <th></th>\n",
       "      <th>machineID</th>\n",
       "      <th>model</th>\n",
       "      <th>age</th>\n",
       "    </tr>\n",
       "  </thead>\n",
       "  <tbody>\n",
       "    <tr>\n",
       "      <th>count</th>\n",
       "      <td>100.000000</td>\n",
       "      <td>100</td>\n",
       "      <td>100.000000</td>\n",
       "    </tr>\n",
       "    <tr>\n",
       "      <th>unique</th>\n",
       "      <td>NaN</td>\n",
       "      <td>4</td>\n",
       "      <td>NaN</td>\n",
       "    </tr>\n",
       "    <tr>\n",
       "      <th>top</th>\n",
       "      <td>NaN</td>\n",
       "      <td>model3</td>\n",
       "      <td>NaN</td>\n",
       "    </tr>\n",
       "    <tr>\n",
       "      <th>freq</th>\n",
       "      <td>NaN</td>\n",
       "      <td>35</td>\n",
       "      <td>NaN</td>\n",
       "    </tr>\n",
       "    <tr>\n",
       "      <th>mean</th>\n",
       "      <td>50.500000</td>\n",
       "      <td>NaN</td>\n",
       "      <td>11.330000</td>\n",
       "    </tr>\n",
       "    <tr>\n",
       "      <th>std</th>\n",
       "      <td>29.011492</td>\n",
       "      <td>NaN</td>\n",
       "      <td>5.856974</td>\n",
       "    </tr>\n",
       "    <tr>\n",
       "      <th>min</th>\n",
       "      <td>1.000000</td>\n",
       "      <td>NaN</td>\n",
       "      <td>0.000000</td>\n",
       "    </tr>\n",
       "    <tr>\n",
       "      <th>25%</th>\n",
       "      <td>25.750000</td>\n",
       "      <td>NaN</td>\n",
       "      <td>6.750000</td>\n",
       "    </tr>\n",
       "    <tr>\n",
       "      <th>50%</th>\n",
       "      <td>50.500000</td>\n",
       "      <td>NaN</td>\n",
       "      <td>12.000000</td>\n",
       "    </tr>\n",
       "    <tr>\n",
       "      <th>75%</th>\n",
       "      <td>75.250000</td>\n",
       "      <td>NaN</td>\n",
       "      <td>16.000000</td>\n",
       "    </tr>\n",
       "    <tr>\n",
       "      <th>max</th>\n",
       "      <td>100.000000</td>\n",
       "      <td>NaN</td>\n",
       "      <td>20.000000</td>\n",
       "    </tr>\n",
       "  </tbody>\n",
       "</table>\n",
       "</div>"
      ],
      "text/plain": [
       "         machineID   model         age\n",
       "count   100.000000     100  100.000000\n",
       "unique         NaN       4         NaN\n",
       "top            NaN  model3         NaN\n",
       "freq           NaN      35         NaN\n",
       "mean     50.500000     NaN   11.330000\n",
       "std      29.011492     NaN    5.856974\n",
       "min       1.000000     NaN    0.000000\n",
       "25%      25.750000     NaN    6.750000\n",
       "50%      50.500000     NaN   12.000000\n",
       "75%      75.250000     NaN   16.000000\n",
       "max     100.000000     NaN   20.000000"
      ]
     },
     "execution_count": 3,
     "metadata": {},
     "output_type": "execute_result"
    }
   ],
   "source": [
    "mach_meta.describe(include='all')"
   ]
  },
  {
   "cell_type": "markdown",
   "metadata": {},
   "source": [
    "There are 100 machines, 4 different models, and machine ages ranging from brand new to 20 years old. Let's look at the break down of the machine ages for each type of model."
   ]
  },
  {
   "cell_type": "code",
   "execution_count": 4,
   "metadata": {},
   "outputs": [
    {
     "name": "stdout",
     "output_type": "stream",
     "text": [
      "         age                                                    \n",
      "       count       mean       std  min    25%   50%    75%   max\n",
      "model                                                           \n",
      "model1  16.0  12.250000  5.385165  2.0   9.25  14.0  16.00  20.0\n",
      "model2  17.0  12.764706  5.847322  2.0  10.00  14.0  18.00  20.0\n",
      "model3  35.0  12.028571  5.607168  1.0   8.50  14.0  17.00  20.0\n",
      "model4  32.0   9.343750  6.099230  0.0   4.00   9.5  14.25  20.0\n"
     ]
    },
    {
     "data": {
      "image/png": "[encoded data removed]",
      "text/plain": [
       "<Figure size 720x576 with 1 Axes>"
      ]
     },
     "metadata": {
      "needs_background": "light"
     },
     "output_type": "display_data"
    }
   ],
   "source": [
    "print(mach_meta[['model', 'age']].groupby('model').describe())\n",
    "\n",
    "fig = plt.figure(figsize=(10,8))\n",
    "sns.swarmplot(x='model', y='age', data=mach_meta, \n",
    "              order=['model1', 'model2', 'model3', 'model4'], size=10)\n",
    "plt.show()"
   ]
  },
  {
   "cell_type": "markdown",
   "metadata": {},
   "source": [
    "Although there are less models of type 1 and 2 the overall distributions of the four models are remarkably similar. Three of the models have a mean age of 12 and a standard deviation of 5.5. Model 4 is slightly different since the units are younger in general, mean age of 9, but the standard deviation is similar to the others.  \n",
    "\n",
    "[1] So, for the most part, based on the meta data there is no major difference in the machine models."
   ]
  },
  {
   "cell_type": "markdown",
   "metadata": {},
   "source": [
    "## Failure & Maintenance Logs"
   ]
  },
  {
   "cell_type": "markdown",
   "metadata": {},
   "source": [
    "Let's start by determining if more than one failure or maintenance event occurs within a given hour for a single computer. If so we will need to get a count before merging the two tables."
   ]
  },
  {
   "cell_type": "code",
   "execution_count": 5,
   "metadata": {},
   "outputs": [
    {
     "data": {
      "text/html": [
       "<div>\n",
       "<style scoped>\n",
       "    .dataframe tbody tr th:only-of-type {\n",
       "        vertical-align: middle;\n",
       "    }\n",
       "\n",
       "    .dataframe tbody tr th {\n",
       "        vertical-align: top;\n",
       "    }\n",
       "\n",
       "    .dataframe thead th {\n",
       "        text-align: right;\n",
       "    }\n",
       "</style>\n",
       "<table border=\"1\" class=\"dataframe\">\n",
       "  <thead>\n",
       "    <tr style=\"text-align: right;\">\n",
       "      <th></th>\n",
       "      <th></th>\n",
       "      <th>maintenance</th>\n",
       "    </tr>\n",
       "    <tr>\n",
       "      <th>datetime</th>\n",
       "      <th>machineID</th>\n",
       "      <th></th>\n",
       "    </tr>\n",
       "  </thead>\n",
       "  <tbody>\n",
       "    <tr>\n",
       "      <th>2014-07-01 06:00:00</th>\n",
       "      <th>97</th>\n",
       "      <td>3</td>\n",
       "    </tr>\n",
       "    <tr>\n",
       "      <th>2014-08-15 06:00:00</th>\n",
       "      <th>96</th>\n",
       "      <td>3</td>\n",
       "    </tr>\n",
       "    <tr>\n",
       "      <th>2015-06-05 06:00:00</th>\n",
       "      <th>26</th>\n",
       "      <td>2</td>\n",
       "    </tr>\n",
       "    <tr>\n",
       "      <th>2015-09-12 06:00:00</th>\n",
       "      <th>49</th>\n",
       "      <td>2</td>\n",
       "    </tr>\n",
       "    <tr>\n",
       "      <th>2015-09-10 06:00:00</th>\n",
       "      <th>82</th>\n",
       "      <td>2</td>\n",
       "    </tr>\n",
       "    <tr>\n",
       "      <th rowspan=\"2\" valign=\"top\">2015-09-12 06:00:00</th>\n",
       "      <th>18</th>\n",
       "      <td>2</td>\n",
       "    </tr>\n",
       "    <tr>\n",
       "      <th>44</th>\n",
       "      <td>2</td>\n",
       "    </tr>\n",
       "    <tr>\n",
       "      <th>2015-04-02 06:00:00</th>\n",
       "      <th>4</th>\n",
       "      <td>2</td>\n",
       "    </tr>\n",
       "    <tr>\n",
       "      <th>2015-04-01 06:00:00</th>\n",
       "      <th>65</th>\n",
       "      <td>2</td>\n",
       "    </tr>\n",
       "    <tr>\n",
       "      <th>2015-04-02 06:00:00</th>\n",
       "      <th>81</th>\n",
       "      <td>2</td>\n",
       "    </tr>\n",
       "  </tbody>\n",
       "</table>\n",
       "</div>"
      ],
      "text/plain": [
       "                               maintenance\n",
       "datetime            machineID             \n",
       "2014-07-01 06:00:00 97                   3\n",
       "2014-08-15 06:00:00 96                   3\n",
       "2015-06-05 06:00:00 26                   2\n",
       "2015-09-12 06:00:00 49                   2\n",
       "2015-09-10 06:00:00 82                   2\n",
       "2015-09-12 06:00:00 18                   2\n",
       "                    44                   2\n",
       "2015-04-02 06:00:00 4                    2\n",
       "2015-04-01 06:00:00 65                   2\n",
       "2015-04-02 06:00:00 81                   2"
      ]
     },
     "execution_count": 5,
     "metadata": {},
     "output_type": "execute_result"
    }
   ],
   "source": [
    "maint_log['maintenance'] = 1\n",
    "maint_log.drop(columns=['comp'], inplace=True)\n",
    "\n",
    "fail_log['failure'] = 1\n",
    "\n",
    "#determine if more than one maintenance event occurs on a given day and machine\n",
    "maint_log.groupby(['datetime', 'machineID']).sum().sort_values('maintenance', ascending=False).head(10)"
   ]
  },
  {
   "cell_type": "markdown",
   "metadata": {},
   "source": [
    "So a computer can be maintenance multiple times within a given hour for a computer so we need to get a count for each comptuer and datetime."
   ]
  },
  {
   "cell_type": "code",
   "execution_count": 20,
   "metadata": {},
   "outputs": [],
   "source": [
    "# combine the maintenance and failure log counts\n",
    "maint_log_count = maint_log.groupby(['datetime', 'machineID']).sum()\n",
    "fail_log_count = fail_log.groupby(['datetime', 'machineID']).sum()\n",
    "\n",
    "issues_log = maint_log_count.merge(fail_log_count, how='outer', on=['datetime', 'machineID'])\n",
    "issues_log.sort_index(inplace=True)\n",
    "issues_log = issues_log.loc['2015-01-01':]"
   ]
  },
  {
   "cell_type": "code",
   "execution_count": 41,
   "metadata": {},
   "outputs": [
    {
     "data": {
      "image/png": "[encoded data removed]",
      "text/plain": [
       "<Figure size 720x576 with 1 Axes>"
      ]
     },
     "metadata": {
      "needs_background": "light"
     },
     "output_type": "display_data"
    }
   ],
   "source": [
    "# Determine if the number of failures are correlated to age\n",
    "age_issue_log = issues_log.merge(mach_meta, how='inner', on='machineID').groupby('age').agg({'failure':['mean','std']})\n",
    "\n",
    "fig = plt.figure(figsize=(10,8))\n",
    "plt.errorbar(age_issue_log.index, age_issue_log[('failure','mean')], age_issue_log[('failure','std')], linestyle='None', marker='^')\n",
    "plt.xlabel('Machine age')\n",
    "plt.ylabel('Number of failures that occured with standard deviation')\n",
    "\n",
    "plt.show()"
   ]
  },
  {
   "cell_type": "code",
   "execution_count": 93,
   "metadata": {},
   "outputs": [
    {
     "name": "stdout",
     "output_type": "stream",
     "text": [
      "Additional number of errors experienced per year aged: 0.12565258486915912, and coefficient of determination: 0.01143426491317956\n"
     ]
    },
    {
     "data": {
      "image/png": "[encoded data removed]",
      "text/plain": [
       "<Figure size 720x576 with 1 Axes>"
      ]
     },
     "metadata": {
      "needs_background": "light"
     },
     "output_type": "display_data"
    }
   ],
   "source": [
    "# Determine if there is a correlation between age and th number of errors expierienced\n",
    "from sklearn.linear_model import LinearRegression\n",
    "err_age_fit = err_log.groupby('machineID').count().merge(mach_meta, how='inner', on='machineID')\n",
    "err_age_fit\n",
    "lr = LinearRegression()\n",
    "lr.fit(err_age_fit['age'].values.reshape([-1,1]), err_age_fit['errorID'])\n",
    "print('Additional number of errors experienced per year aged: {}, and coefficient of determination: {}'.format(lr.coef_[0], lr.score(err_age_fit['age'].values.reshape([-1,1]), err_age_fit['errorID'])))\n",
    "\n",
    "# Number of each error vs. Age\n",
    "err_age_log = err_log.merge(mach_meta, how='inner', on='machineID').groupby(['errorID', 'age']).count()\n",
    "\n",
    "#plot the number of errors that occurred for each error type at each age group\n",
    "fig = plt.figure(figsize=(10,8))\n",
    "err_age_log['model'].xs('error1').plot(label='error1', linestyle='', marker='o')\n",
    "err_age_log['model'].xs('error2').plot(label='error2', linestyle='', marker='o')\n",
    "err_age_log['model'].xs('error3').plot(label='error3', linestyle='', marker='o')\n",
    "err_age_log['model'].xs('error4').plot(label='error4', linestyle='', marker='o')\n",
    "err_age_log['model'].xs('error5').plot(label='error5', linestyle='', marker='o')\n",
    "\n",
    "plt.legend()\n",
    "plt.ylabel('Average number of errors')\n",
    "\n",
    "plt.show()"
   ]
  },
  {
   "cell_type": "markdown",
   "metadata": {},
   "source": [
    "[2] It does not look like older machines experience significantly more errors or failures than new machines."
   ]
  },
  {
   "cell_type": "code",
   "execution_count": 97,
   "metadata": {},
   "outputs": [
    {
     "data": {
      "text/html": [
       "<div>\n",
       "<style scoped>\n",
       "    .dataframe tbody tr th:only-of-type {\n",
       "        vertical-align: middle;\n",
       "    }\n",
       "\n",
       "    .dataframe tbody tr th {\n",
       "        vertical-align: top;\n",
       "    }\n",
       "\n",
       "    .dataframe thead th {\n",
       "        text-align: right;\n",
       "    }\n",
       "</style>\n",
       "<table border=\"1\" class=\"dataframe\">\n",
       "  <thead>\n",
       "    <tr style=\"text-align: right;\">\n",
       "      <th></th>\n",
       "      <th>failure</th>\n",
       "    </tr>\n",
       "    <tr>\n",
       "      <th>machineID</th>\n",
       "      <th></th>\n",
       "    </tr>\n",
       "  </thead>\n",
       "  <tbody>\n",
       "    <tr>\n",
       "      <th>72</th>\n",
       "      <td>2</td>\n",
       "    </tr>\n",
       "    <tr>\n",
       "      <th>57</th>\n",
       "      <td>2</td>\n",
       "    </tr>\n",
       "    <tr>\n",
       "      <th>46</th>\n",
       "      <td>2</td>\n",
       "    </tr>\n",
       "    <tr>\n",
       "      <th>29</th>\n",
       "      <td>2</td>\n",
       "    </tr>\n",
       "    <tr>\n",
       "      <th>100</th>\n",
       "      <td>3</td>\n",
       "    </tr>\n",
       "    <tr>\n",
       "      <th>...</th>\n",
       "      <td>...</td>\n",
       "    </tr>\n",
       "    <tr>\n",
       "      <th>37</th>\n",
       "      <td>14</td>\n",
       "    </tr>\n",
       "    <tr>\n",
       "      <th>22</th>\n",
       "      <td>15</td>\n",
       "    </tr>\n",
       "    <tr>\n",
       "      <th>17</th>\n",
       "      <td>15</td>\n",
       "    </tr>\n",
       "    <tr>\n",
       "      <th>98</th>\n",
       "      <td>16</td>\n",
       "    </tr>\n",
       "    <tr>\n",
       "      <th>99</th>\n",
       "      <td>19</td>\n",
       "    </tr>\n",
       "  </tbody>\n",
       "</table>\n",
       "<p>98 rows × 1 columns</p>\n",
       "</div>"
      ],
      "text/plain": [
       "           failure\n",
       "machineID         \n",
       "72               2\n",
       "57               2\n",
       "46               2\n",
       "29               2\n",
       "100              3\n",
       "...            ...\n",
       "37              14\n",
       "22              15\n",
       "17              15\n",
       "98              16\n",
       "99              19\n",
       "\n",
       "[98 rows x 1 columns]"
      ]
     },
     "execution_count": 97,
     "metadata": {},
     "output_type": "execute_result"
    }
   ],
   "source": [
    "fail_log[['machineID', 'failure']].groupby('machineID').count().sort_values('failure')"
   ]
  },
  {
   "cell_type": "markdown",
   "metadata": {},
   "source": [
    "[4] Some machines had as few as 2 failures, while one machine had up to 19 failures occur during the year."
   ]
  },
  {
   "cell_type": "code",
   "execution_count": 104,
   "metadata": {},
   "outputs": [
    {
     "data": {
      "text/plain": [
       "<AxesSubplot:xlabel='datetime'>"
      ]
     },
     "execution_count": 104,
     "metadata": {},
     "output_type": "execute_result"
    },
    {
     "data": {
      "image/png": "[encoded data removed]",
      "text/plain": [
       "<Figure size 432x288 with 1 Axes>"
      ]
     },
     "metadata": {
      "needs_background": "light"
     },
     "output_type": "display_data"
    }
   ],
   "source": [
    "# Trends in sensor data\n",
    "mach_99 = sens_data[sens_data['machineID'] == 99].sort_values('datetime')\n",
    "mach_99.set_index('datetime', inplace=True)\n",
    "mach_99.drop(columns=['machineID'])\n",
    "mach_99.plot()"
   ]
  },
  {
   "cell_type": "code",
   "execution_count": null,
   "metadata": {},
   "outputs": [],
   "source": []
  }
 ],
 "metadata": {
  "kernelspec": {
   "display_name": "Python 3",
   "language": "python",
   "name": "python3"
  },
  "language_info": {
   "codemirror_mode": {
    "name": "ipython",
    "version": 3
   },
   "file_extension": ".py",
   "mimetype": "text/x-python",
   "name": "python",
   "nbconvert_exporter": "python",
   "pygments_lexer": "ipython3",
   "version": "3.8.5"
  }
 },
 "nbformat": 4,
 "nbformat_minor": 4
}
