{
 "cells": [
  {
   "cell_type": "markdown",
   "metadata": {},
   "source": [
    "# Introduction"
   ]
  },
  {
   "cell_type": "markdown",
   "metadata": {},
   "source": [
    "There are three main modeling approaches that can be taken for predictive maintenance we can call them: Outlier Frequency, Remaining Useful Life, and the standard Boolean Decision.\n",
    "\n",
    "Outlier Frequency consists of making a model capable of predicting the future values of the continuous monitored variables during specified \"good machine health\" periods with the expectation that there is a good fit to the data. Then when the model trained to the healthy state is ran on data during periods where the machine deviates from a healthy condition the model is less accurate at predicting the future values. The model actually used for determining when a failure was imminent would actually be a simple threshold model using a cut off value for the amount of error between the actual reading and predicted, or perhaps the average error over the last 5 datapoints, etc.\n",
    "\n",
    "the standard Boolean Decision models consists of models that most perople are already aware of such as Decision Trees, Random Forest, Logistic Regression, etc. These would be used to state whether or not a failure would occur at x time with x being a predetermined number of timesteps in the future.\n",
    "\n",
    "Remaining Useful Life consists of creating a model that estimates the probability of the machine failing within x days, with x being a large range of days in the future. As time goes on the probabilities of failure for the future dates will start to increase, with the rate of the probability increase depending on the machines historical data.\n",
    "\n",
    "Each of these methods have their pros and cons when it comes to model creation time, derived value, and its predictive power. At this time, a detailed list of the individual pros and cons will not be developed."
   ]
  },
  {
   "cell_type": "markdown",
   "metadata": {},
   "source": [
    "# Import Data & Packages"
   ]
  },
  {
   "cell_type": "code",
   "execution_count": 1,
   "metadata": {},
   "outputs": [],
   "source": [
    "# Packages\n",
    "import pandas as pd\n",
    "import numpy as np\n",
    "import matplotlib.pyplot as plt\n",
    "import scipy as sp\n",
    "import os\n",
    "import seaborn as sns\n",
    "sns.set_theme(context='notebook')\n",
    "import datetime as dt"
   ]
  },
  {
   "cell_type": "code",
   "execution_count": 2,
   "metadata": {},
   "outputs": [],
   "source": [
    "# Data\n",
    "wd = os.getcwd()\n",
    "base_path = wd.replace('notebooks', 'data')\n",
    "\n",
    "# Machine Meta Data \n",
    "mach_meta = pd.read_csv(base_path + '\\\\PdM_machines.csv')\n",
    "\n",
    "# Error Logs\n",
    "err_log = pd.read_csv(base_path + '\\\\PdM_errors.csv')\n",
    "err_log['datetime'] = pd.to_datetime(err_log['datetime'])\n",
    "err_log.set_index('datetime', inplace=True)\n",
    "\n",
    "# Failure Logs\n",
    "fail_log = pd.read_csv(base_path + '\\\\PdM_failures.csv')\n",
    "fail_log['datetime'] = pd.to_datetime(fail_log['datetime'])\n",
    "fail_log.set_index('datetime', inplace=True)\n",
    "\n",
    "# Maintenance Logs\n",
    "maint_log = pd.read_csv(base_path + '\\\\PdM_maint.csv')\n",
    "maint_log['datetime'] = pd.to_datetime(maint_log['datetime'])\n",
    "maint_log.set_index('datetime', inplace=True)\n",
    "\n",
    "# Sensor Data\n",
    "sens_data = pd.read_csv(base_path + '\\\\PdM_telemetry.csv')\n",
    "sens_data['datetime'] = pd.to_datetime(sens_data['datetime'])\n",
    "sens_data.set_index('datetime', inplace=True)"
   ]
  },
  {
   "cell_type": "markdown",
   "metadata": {},
   "source": [
    "# Preprocessing"
   ]
  },
  {
   "cell_type": "markdown",
   "metadata": {},
   "source": [
    "For the three methods listed above there are two ways that the data needs to be preprocessed. \n",
    "\n",
    "The remaining useful life requires no feature extraction, but does require breaking the data into individual time series based on the periods of time between failures. The individual time series would then have a new column that has the remaining useul life value, which would be linear decreasing from the start of the series to the failure. Since the machine is not new after being maintenanced or immediately following a failure, it is hard to decide if the remaining useful life should start at 100% at the beginning of a new series or not. Instead of having to decide now, let's pursue this method as our last option if the other methods do not work.\n",
    "\n",
    "The other two methods require rolling the data into windows and using the raw data from those windows or calculating features of the windowed data."
   ]
  },
  {
   "cell_type": "markdown",
   "metadata": {},
   "source": [
    "## Roll Raw Sensor Data"
   ]
  },
  {
   "cell_type": "code",
   "execution_count": 3,
   "metadata": {},
   "outputs": [],
   "source": [
    "def flat_rolling_wndw(wndw_size, mach):\n",
    "    \"\"\"\n",
    "    for getting the raw values of rolled windows instead of features\n",
    "    \"\"\"\n",
    "    col_names = [var + str(i) for i in range(wndw_size) for var in ['Volt-', 'Rot-', 'Press-', 'Vib-']]\n",
    "    df = pd.DataFrame(columns=col_names, index=mach.index)\n",
    "    \n",
    "    rolled = mach.rolling(wndw_size, center=False, axis=0)\n",
    "\n",
    "    i = 0\n",
    "    #can this be completed faster?\n",
    "    for r in rolled:\n",
    "        r.sort_index(ascending=False, inplace=True)\n",
    "        data = r.to_numpy().flatten().tolist()\n",
    "        data = data + [0] * (20 - len(data))\n",
    "        df.iloc[i] = data \n",
    "        i += 1\n",
    "        \n",
    "    return df"
   ]
  },
  {
   "cell_type": "code",
   "execution_count": 4,
   "metadata": {},
   "outputs": [
    {
     "name": "stderr",
     "output_type": "stream",
     "text": [
      "C:\\Users\\scosam\\Anaconda3\\lib\\site-packages\\pandas\\core\\frame.py:4163: SettingWithCopyWarning: \n",
      "A value is trying to be set on a copy of a slice from a DataFrame\n",
      "\n",
      "See the caveats in the documentation: https://pandas.pydata.org/pandas-docs/stable/user_guide/indexing.html#returning-a-view-versus-a-copy\n",
      "  return super().drop(\n",
      "<ipython-input-3-ec6c5518a2d9>:13: SettingWithCopyWarning: \n",
      "A value is trying to be set on a copy of a slice from a DataFrame\n",
      "\n",
      "See the caveats in the documentation: https://pandas.pydata.org/pandas-docs/stable/user_guide/indexing.html#returning-a-view-versus-a-copy\n",
      "  r.sort_index(ascending=False, inplace=True)\n"
     ]
    }
   ],
   "source": [
    "# Break the data out for each machine\n",
    "mach_data = [sens_data[sens_data['machineID'] == i] for i in range(1,101)]\n",
    "for x in mach_data:\n",
    "    x.sort_index(axis=0, inplace=True)\n",
    "    x.drop(columns=['machineID'], inplace=True)\n",
    "\n",
    "# Roll and flatten data for each machine\n",
    "wndw_size = 5\n",
    "raw_roll_mach_data = [flat_rolling_wndw(wndw_size, mach) for mach in mach_data] "
   ]
  },
  {
   "cell_type": "markdown",
   "metadata": {},
   "source": [
    "## Aggregated Rolled Sensor Data"
   ]
  },
  {
   "cell_type": "code",
   "execution_count": 5,
   "metadata": {},
   "outputs": [],
   "source": [
    "feat_list = ['min', 'max', 'mean', 'sum', 'std', 'skew', 'kurt']\n",
    "feat_roll_mach_data = [mach.rolling(wndw_size, center=False, axis=0).agg(feat_list) for mach in mach_data]\n",
    "\n",
    "for mach in feat_roll_mach_data:\n",
    "    mach.columns = ['_'.join(col).strip() for col in mach.columns.values] #combine multi level column names\n",
    "    mach.dropna(axis=0, how='all', inplace=True)\n"
   ]
  },
  {
   "cell_type": "markdown",
   "metadata": {},
   "source": [
    "## Add Logs to Rolled Data"
   ]
  },
  {
   "cell_type": "code",
   "execution_count": 6,
   "metadata": {},
   "outputs": [],
   "source": [
    "# add the maintenance and error data\n",
    "maint_log['Maint'] = 1\n",
    "\n",
    "for i in range(1, 101):\n",
    "    # Maintenance only included if it happened in the last hour\n",
    "    ml = maint_log[maint_log['machineID'] == i]\n",
    "    raw_roll_mach_data[i-1] = raw_roll_mach_data[i-1].merge(ml['Maint'], how='left', on='datetime')\n",
    "    feat_roll_mach_data[i-1] = feat_roll_mach_data[i-1].merge(ml['Maint'], how='left', on='datetime')\n",
    "    \n",
    "    # Error only included if it occured in the last hour\n",
    "    err = err_log[err_log['machineID'] == i]\n",
    "    raw_roll_mach_data[i-1] = raw_roll_mach_data[i-1].merge(err['errorID'], how='left', on='datetime')\n",
    "    feat_roll_mach_data[i-1] = feat_roll_mach_data[i-1].merge(err['errorID'], how='left', on='datetime')\n",
    "    \n",
    "    raw_roll_mach_data[i-1].fillna(0, inplace=True)\n",
    "    feat_roll_mach_data[i-1].fillna(0, inplace=True)"
   ]
  },
  {
   "cell_type": "markdown",
   "metadata": {},
   "source": [
    "## Create Target Variable"
   ]
  },
  {
   "cell_type": "code",
   "execution_count": 8,
   "metadata": {},
   "outputs": [],
   "source": [
    "hour_offset = 5 # Hours you want to be able to predict in the future\n",
    "\n",
    "fail_log['Fail'] = 1\n",
    "for i in range(1, 101):\n",
    "    fl = fail_log[fail_log['machineID'] == i]\n",
    "    fl.index = fl.index - dt.timedelta(hours=hour_offset)\n",
    "    \n",
    "    raw_roll_mach_data[i-1] = raw_roll_mach_data[i-1].merge(fl['Fail'], how='left', on='datetime')\n",
    "    feat_roll_mach_data[i-1] = feat_roll_mach_data[i-1].merge(fl['Fail'], how='left', on='datetime')"
   ]
  },
  {
   "cell_type": "markdown",
   "metadata": {},
   "source": [
    "## Merge All Machines"
   ]
  },
  {
   "cell_type": "code",
   "execution_count": 9,
   "metadata": {},
   "outputs": [],
   "source": [
    "raw_vals = pd.DataFrame(columns = raw_roll_mach_data[0].columns)\n",
    "feat_vals = pd.DataFrame(columns = feat_roll_mach_data[0].columns)\n",
    "\n",
    "for i in range(100):\n",
    "    raw_vals = pd.concat([raw_vals, raw_roll_mach_data[i]], axis=0, ignore_index=True)\n",
    "    feat_vals = pd.concat([feat_vals, feat_roll_mach_data[i]], axis=0, ignore_index=True)\n",
    "    \n",
    "raw_vals.fillna(0, inplace=True)\n",
    "feat_vals.fillna(0, inplace=True)"
   ]
  },
  {
   "cell_type": "markdown",
   "metadata": {},
   "source": [
    "## Error ID Encoding"
   ]
  },
  {
   "cell_type": "markdown",
   "metadata": {},
   "source": [
    "There are three ways that we could encode the five error codes: one hot encoding, label encoding, or hash encoding.  \n",
    "\n",
    "__Label encoding__ is typically used only for ordinal data, when there is some sort of time order or heirarchy associated with the variable (e.g. schooling or year). I believe this could be used for our case since it is an error ID number \n",
    "__One hot encoding__ makes a new boolean column for each category, where at any given time one column will have a 1, and all other columns are 0. This could work with us, but it will add four more columns and increase our dimensionality.  \n",
    "__Hash encoding__ makes as many new columns as you want and then the combination of the values in the columns equates to a given category, like each column is a single byte of a string. In our case we would use 3 columns, because two columsn can make 4 unique values, while 3 columns can make 8 unique values.\n",
    "\n",
    "For our situation there would not be much difference between the one hot encoding method and the hash encoding method. For now, we will stick with one hot encoding"
   ]
  },
  {
   "cell_type": "code",
   "execution_count": 10,
   "metadata": {},
   "outputs": [],
   "source": [
    "raw_vals['errorID'].replace(0, '0', inplace=True)\n",
    "raw_vals['errorID'] = raw_vals['errorID'].map(lambda x: x.lstrip('ero'))\n",
    "raw_vals['errorID'] = raw_vals['errorID'].astype(int)"
   ]
  },
  {
   "cell_type": "markdown",
   "metadata": {},
   "source": [
    "## Oversample Failure Data?"
   ]
  },
  {
   "cell_type": "markdown",
   "metadata": {},
   "source": [
    "## Train Test Splitting"
   ]
  },
  {
   "cell_type": "code",
   "execution_count": 11,
   "metadata": {},
   "outputs": [],
   "source": [
    "from sklearn.model_selection import train_test_split\n",
    "\n",
    "def split_data(df, test_size):\n",
    "    X = df.drop(columns=['Fail'])\n",
    "    y = df['Fail']\n",
    "    \n",
    "    return train_test_split(X, y, test_size=test_size)"
   ]
  },
  {
   "cell_type": "markdown",
   "metadata": {},
   "source": [
    "## Normalizing"
   ]
  },
  {
   "cell_type": "code",
   "execution_count": 12,
   "metadata": {},
   "outputs": [],
   "source": [
    "from sklearn.preprocessing import StandardScaler\n",
    "\n",
    "def normalize(df, test_size, excluded):\n",
    "    '''\n",
    "    Scale the sensor data and split it into a training and testing split.\n",
    "    df: The dataframe to perform the scaling and splitting on\n",
    "    test_size: percent of data to hold off for model testing\n",
    "    excluded: list of columns that do not require scaling\n",
    "    '''\n",
    "    X_train, X_test, y_train, y_test = split_data(df, test_size)\n",
    "    X_train_ex = X_train.drop(columns=excluded)\n",
    "    X_test_ex = X_test.drop(columns=excluded)\n",
    "    col_names = X_train_ex.columns\n",
    "    train_inds = X_train.index\n",
    "    test_inds = X_test.index\n",
    "    ss = StandardScaler()\n",
    "    ss.fit(X_train_ex)\n",
    "    X_train_ex = pd.DataFrame(ss.transform(X_train_ex), columns=col_names, index=train_inds)\n",
    "    X_test_ex = pd.DataFrame(ss.transform(X_test_ex), columns=col_names, index=test_inds)\n",
    "    X_train = pd.concat([X_train_ex, X_train[excluded]], axis=1)\n",
    "    X_test = pd.concat([X_test_ex, X_test[excluded]], axis=1)\n",
    "    \n",
    "    return X_train, X_test, y_train, y_test\n",
    "\n"
   ]
  },
  {
   "cell_type": "markdown",
   "metadata": {},
   "source": [
    "# Model Creation"
   ]
  },
  {
   "cell_type": "markdown",
   "metadata": {},
   "source": [
    "Evaluation criteria selection:  \n",
    "The overall goal for this model is to be able to always predict when a failure will occur without too much nuissance tripping. Having a bias towards getting 100% of the true positives, would mean that we want to have high recall for failure. However, since we also want to avoid nuissance tripping we also want to have a fairly high precision. Having high precision and recall essentially means we want to maximize our f1 score. having a high f1 score means that when the model flags \n",
    "\n",
    "Due to the nature of the problem and how little failures there are (700 in total), there is not a good baseline model to use. Obviously, if we always predict that a failure will occur then we will have 100% recall, but our precision would be 0, which would not be actually helpful since everyone would learn to ignore it due to it constantly crying wolf. However, just to get an idea of a worst case scenario we can make a couple of models that randomly guess if there will be a failure to get an idea of the distribution we can expect from it. After that, we can create a simple decision tree to give us a reasonable baseline score and help us identify some the aspects of the data that are useful for predicting failure."
   ]
  },
  {
   "cell_type": "markdown",
   "metadata": {},
   "source": [
    "## Standard Boolean Models"
   ]
  },
  {
   "cell_type": "code",
   "execution_count": 13,
   "metadata": {},
   "outputs": [
    {
     "data": {
      "image/png": "[encoded data removed]",
      "text/plain": [
       "<Figure size 720x576 with 1 Axes>"
      ]
     },
     "metadata": {},
     "output_type": "display_data"
    }
   ],
   "source": [
    "from sklearn.dummy import DummyClassifier\n",
    "from sklearn.metrics import classification_report, f1_score\n",
    "\n",
    "X_train, X_test, y_train, y_test = normalize(raw_vals, 0.3, ['errorID', 'Maint'])\n",
    "\n",
    "dummy_f1 = [] #get multiple f1 scores to determine the distribution\n",
    "for i in range(200):\n",
    "    dc = DummyClassifier(strategy='uniform')\n",
    "    dc.fit(X_train, y_train)\n",
    "    dummy_f1.append(f1_score(y_train, dc.predict(X_train)))\n",
    "\n",
    "fig = plt.figure(figsize=(10,8))\n",
    "sns.histplot(x=dummy_f1, bins=int(np.sqrt(200)))\n",
    "plt.xlabel('f1 score')\n",
    "\n",
    "plt.show()"
   ]
  },
  {
   "cell_type": "markdown",
   "metadata": {},
   "source": [
    "A random guessing model results in a f1 score of approximately 0, with the average of the 200 samples hovering around 0.0018, so there is a lot of room for improvement."
   ]
  },
  {
   "cell_type": "code",
   "execution_count": 14,
   "metadata": {},
   "outputs": [
    {
     "data": {
      "image/png": "[encoded data removed]",
      "text/plain": [
       "<Figure size 720x576 with 1 Axes>"
      ]
     },
     "metadata": {},
     "output_type": "display_data"
    }
   ],
   "source": [
    "from sklearn.tree import DecisionTreeClassifier\n",
    "\n",
    "tree_f1_train = []\n",
    "tree_f1_test = []\n",
    "\n",
    "for i in range(1, 21):\n",
    "    tree_raw = DecisionTreeClassifier(max_depth=i, class_weight='balanced') # increases the weighting of the failure due to there being less of them\n",
    "    tree_raw.fit(X_train, y_train)\n",
    "    tree_f1_train.append(f1_score(y_train, tree_raw.predict(X_train)))\n",
    "    tree_f1_test.append(f1_score(y_test, tree_raw.predict(X_test)))\n",
    "\n",
    "fig = plt.figure(figsize=(10,8))\n",
    "plt.plot(range(1,21), tree_f1_train, marker='o', label='train')\n",
    "plt.plot(range(1,21), tree_f1_test, marker='o', label='test')\n",
    "plt.legend()\n",
    "plt.ylabel('f1_score')\n",
    "plt.xlabel('tree max depth')\n",
    "\n",
    "plt.show()"
   ]
  },
  {
   "cell_type": "markdown",
   "metadata": {},
   "source": [
    "So overall, there is a 10x improvement in f1 scores from the baseline random guessing model. However, the model is still far from good. One thing we could do is feed the model engineered features instead of the raw data for a 5 hour period."
   ]
  },
  {
   "cell_type": "code",
   "execution_count": 15,
   "metadata": {},
   "outputs": [
    {
     "data": {
      "image/png": "[encoded data removed]",
      "text/plain": [
       "<Figure size 720x576 with 1 Axes>"
      ]
     },
     "metadata": {},
     "output_type": "display_data"
    }
   ],
   "source": [
    "from sklearn.tree import DecisionTreeClassifier\n",
    "\n",
    "tree_f1_train = []\n",
    "tree_f1_test = []\n",
    "\n",
    "X_train, X_test, y_train, y_test = normalize(feat_vals, 0.3, ['errorID', 'Maint']) # using our engineered features\n",
    "for i in range(1, 21):\n",
    "    tree_raw = DecisionTreeClassifier(max_depth=i, class_weight='balanced') # increases the weighting of the failure due to there being less of them\n",
    "    tree_raw.fit(X_train, y_train)\n",
    "    tree_f1_train.append(f1_score(y_train, tree_raw.predict(X_train)))\n",
    "    tree_f1_test.append(f1_score(y_test, tree_raw.predict(X_test)))\n",
    "\n",
    "fig = plt.figure(figsize=(10,8))\n",
    "plt.plot(range(1,21), tree_f1_train, marker='o', label='train')\n",
    "plt.plot(range(1,21), tree_f1_test, marker='o', label='test')\n",
    "plt.legend()\n",
    "plt.ylabel('f1_score')\n",
    "plt.xlabel('tree max depth')\n",
    "\n",
    "plt.show()"
   ]
  },
  {
   "cell_type": "markdown",
   "metadata": {},
   "source": [
    "There may be a slight improvement, but suprisingly not much over the raw data, and still very far away from what we would like. Now, we should start looking at some more complex models and using crossfold validation."
   ]
  },
  {
   "cell_type": "code",
   "execution_count": 16,
   "metadata": {},
   "outputs": [
    {
     "data": {
      "text/plain": [
       "{'fit_time': array([79.47351599, 81.88714862, 82.18937278]),\n",
       " 'score_time': array([1.03378582, 1.02932262, 1.01237202]),\n",
       " 'test_score': array([0.03269755, 0.02603037, 0.02683363]),\n",
       " 'train_score': array([0.40188014, 0.31884058, 0.27153632])}"
      ]
     },
     "execution_count": 16,
     "metadata": {},
     "output_type": "execute_result"
    }
   ],
   "source": [
    "from sklearn.ensemble import RandomForestClassifier\n",
    "from sklearn.linear_model import LogisticRegression\n",
    "from sklearn.model_selection import cross_validate\n",
    "\n",
    "rf = RandomForestClassifier(max_depth=15, n_estimators=50 ,class_weight='balanced')\n",
    "cv = cross_validate(rf, X_train, y_train, scoring='f1', cv=3, n_jobs=3, return_train_score=True)\n",
    "cv"
   ]
  },
  {
   "cell_type": "code",
   "execution_count": 17,
   "metadata": {},
   "outputs": [
    {
     "name": "stdout",
     "output_type": "stream",
     "text": [
      "Fitting 3 folds for each of 30 candidates, totalling 90 fits\n"
     ]
    },
    {
     "name": "stderr",
     "output_type": "stream",
     "text": [
      "[Parallel(n_jobs=6)]: Using backend LokyBackend with 6 concurrent workers.\n",
      "[Parallel(n_jobs=6)]: Done  38 tasks      | elapsed: 22.8min\n",
      "[Parallel(n_jobs=6)]: Done  90 out of  90 | elapsed: 50.1min finished\n"
     ]
    },
    {
     "name": "stdout",
     "output_type": "stream",
     "text": [
      "The best score obtain was 0.0654000796782394 using {'n_estimators': 124, 'max_depth': 33} parameters\n"
     ]
    }
   ],
   "source": [
    "from sklearn.model_selection import RandomizedSearchCV\n",
    "\n",
    "params ={'max_depth': np.linspace(4, 40, 40-3, dtype=int), 'n_estimators': np.linspace(20, 150, 150-19, dtype=int)}\n",
    "rf = RandomForestClassifier(class_weight='balanced')\n",
    "rscv = RandomizedSearchCV(rf, params, cv=3, verbose=1, n_jobs=6, scoring='f1', return_train_score=True, n_iter=30)\n",
    "rscv.fit(X_train, y_train)\n",
    "\n",
    "print('The best score obtain was {} using {} parameters'.format(rscv.best_score_, rscv.best_params_))"
   ]
  },
  {
   "cell_type": "markdown",
   "metadata": {},
   "source": [
    "Now with some optimization and more complex models we are nearing the E-1 range, but still far from something that could be useful. The next thing we can do is set up a model pipeline capable of varying the number of data points used to create our engineered features, and prediction time horizon. Once the pipeline is established we can test multiple model types to see if we can actually make an improvement."
   ]
  },
  {
   "cell_type": "code",
   "execution_count": null,
   "metadata": {},
   "outputs": [],
   "source": [
    "def agg_feats(data, wndw_size, feat_list):\n",
    "    \n",
    "    if feat_list == 'raw':\n",
    "        rolled_data = [flat_rolling_wndw(wndw_size, mach) for mach in mach_data] \n",
    "    else:\n",
    "        rolled_data = [mach.rolling(wndw_size, center=False, axis=0).agg(feat_list) for mach in data]\n",
    "\n",
    "        for mach in rolled_data:\n",
    "            mach.columns = ['_'.join(col).strip() for col in mach.columns.values] #combine multi level column names\n",
    "            mach.dropna(axis=0, how='all', inplace=True)\n",
    "            \n",
    "    return rolled_data\n",
    "            \n",
    "def add_logs(data, maint, error, failure, offset):\n",
    "    for i in range(1, len(data)+1):\n",
    "        # Maintenance only included if it happened in the last hour\n",
    "        ml = maint[maint['machineID'] == i]\n",
    "        data[i-1] = data[i-1].merge(ml['Maint'], how='left', on='datetime')\n",
    "\n",
    "        # Error only included if it occured in the last hour\n",
    "        err = error[error['machineID'] == i]\n",
    "        err['errorID'] = err['errorID'].map(lambda x: x.lstrip('ero')) #strip the letters\n",
    "        err['errorID'] = err['errorID'].astype(int) #convert the error number to an integer\n",
    "        data[i-1] = data[i-1].merge(err['errorID'], how='left', on='datetime')\n",
    "        \n",
    "        # Failures that occur in the future by the specified offset\n",
    "        fl = failure[failure['machineID'] == i]\n",
    "        fl.index = fl.index - dt.timedelta(hours=offset)\n",
    "        data[i-1] = data[i-1].merge(fl['Fail'], how='left', on='datetime')\n",
    "\n",
    "        data[i-1].fillna(0, inplace=True)\n",
    "        \n",
    "    return data\n",
    "    \n",
    "def merge_data(indv_data):\n",
    "    data = pd.DataFrame(columns = indv_data[0].columns)\n",
    "\n",
    "    for i in range(len(indv_data)):\n",
    "        data = pd.concat([data, indv_data[i]], axis=0, ignore_index=True)\n",
    "        \n",
    "    return data\n",
    "\n",
    "def pipeline(data, wndw_size, feat_list, maint_log, err_log, fail_log, fail_offset, test_size, excluded):\n",
    "    \n",
    "    #Break the data into windows\n",
    "    feat_data = agg_feats(data, wndw_size, feat_list)\n",
    "    \n",
    "    # Add log data\n",
    "    log_data = add_logs(feat_data, maint_log, err_log, fail_log, fail_offset)\n",
    "    \n",
    "    # Merge data\n",
    "    merged_data = merge_data(log_data)\n",
    "    \n",
    "    # Normalize the data\n",
    "    X_train, X_test, y_train, y_test = normalize(merged_data, test_size, excluded)\n",
    "    \n",
    "    return X_train, X_test, y_train, y_test"
   ]
  },
  {
   "cell_type": "code",
   "execution_count": 18,
   "metadata": {},
   "outputs": [
    {
     "ename": "NameError",
     "evalue": "name 'agg_feats' is not defined",
     "output_type": "error",
     "traceback": [
      "\u001b[1;31m---------------------------------------------------------------------------\u001b[0m",
      "\u001b[1;31mNameError\u001b[0m                                 Traceback (most recent call last)",
      "\u001b[1;32m<ipython-input-18-d8c73e63c17a>\u001b[0m in \u001b[0;36m<module>\u001b[1;34m\u001b[0m\n\u001b[0;32m      1\u001b[0m \u001b[0mfeat_list\u001b[0m \u001b[1;33m=\u001b[0m \u001b[1;33m[\u001b[0m\u001b[1;34m'min'\u001b[0m\u001b[1;33m,\u001b[0m \u001b[1;34m'max'\u001b[0m\u001b[1;33m,\u001b[0m \u001b[1;34m'mean'\u001b[0m\u001b[1;33m,\u001b[0m \u001b[1;34m'sum'\u001b[0m\u001b[1;33m,\u001b[0m \u001b[1;34m'std'\u001b[0m\u001b[1;33m,\u001b[0m \u001b[1;34m'skew'\u001b[0m\u001b[1;33m,\u001b[0m \u001b[1;34m'kurt'\u001b[0m\u001b[1;33m]\u001b[0m\u001b[1;33m\u001b[0m\u001b[1;33m\u001b[0m\u001b[0m\n\u001b[0;32m      2\u001b[0m \u001b[1;33m\u001b[0m\u001b[0m\n\u001b[1;32m----> 3\u001b[1;33m \u001b[0magg_feats\u001b[0m\u001b[1;33m(\u001b[0m\u001b[0mmach_data\u001b[0m\u001b[1;33m,\u001b[0m \u001b[0mwndw_size\u001b[0m\u001b[1;33m,\u001b[0m \u001b[0mfeat_list\u001b[0m\u001b[1;33m)\u001b[0m\u001b[1;33m\u001b[0m\u001b[1;33m\u001b[0m\u001b[0m\n\u001b[0m",
      "\u001b[1;31mNameError\u001b[0m: name 'agg_feats' is not defined"
     ]
    }
   ],
   "source": [
    "feat_list = ['min', 'max', 'mean', 'sum', 'std', 'skew', 'kurt']\n",
    "excluded = ['errorID', 'Maint']\n",
    "test_size = 0.3\n",
    "\n",
    "X_train, X_test, y_train, y_test = pipeline()"
   ]
  },
  {
   "cell_type": "code",
   "execution_count": null,
   "metadata": {},
   "outputs": [],
   "source": []
  }
 ],
 "metadata": {
  "kernelspec": {
   "display_name": "Python 3",
   "language": "python",
   "name": "python3"
  },
  "language_info": {
   "codemirror_mode": {
    "name": "ipython",
    "version": 3
   },
   "file_extension": ".py",
   "mimetype": "text/x-python",
   "name": "python",
   "nbconvert_exporter": "python",
   "pygments_lexer": "ipython3",
   "version": "3.8.5"
  }
 },
 "nbformat": 4,
 "nbformat_minor": 4
}
