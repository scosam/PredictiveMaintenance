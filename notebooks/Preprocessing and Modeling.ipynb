{
 "cells": [
  {
   "cell_type": "markdown",
   "metadata": {},
   "source": [
    "# Introduction"
   ]
  },
  {
   "cell_type": "markdown",
   "metadata": {},
   "source": [
    "There are three main modeling approaches that can be taken for predictive maintenance we can call them: Outlier Frequency, Remaining Useful Life, and the standard Boolean Decision.\n",
    "\n",
    "Outlier Frequency consists of making a model capable of predicting the future values of the continuous monitored variables during specified \"good machine health\" periods with the expectation that there is a good fit to the data. Then when the model trained to the healthy state is ran on data during periods where the machine deviates from a healthy condition the model is less accurate at predicting the future values. The model actually used for determining when a failure was imminent would actually be a simple threshold model using a cut off value for the amount of error between the actual reading and predicted, or perhaps the average error over the last 5 datapoints, etc.\n",
    "\n",
    "the standard Boolean Decision models consists of models that most perople are already aware of such as Decision Trees, Random Forest, Logistic Regression, etc. These would be used to state whether or not a failure would occur at x time with x being a predetermined number of timesteps in the future.\n",
    "\n",
    "Remaining Useful Life consists of creating a model that estimates the probability of the machine failing within x days, with x being a large range of days in the future. As time goes on the probabilities of failure for the future dates will start to increase, with the rate of the probability increase depending on the machines historical data.\n",
    "\n",
    "Each of these methods have their pros and cons when it comes to model creation time, derived value, and its predictive power. At this time, a detailed list of the individual pros and cons will not be developed."
   ]
  },
  {
   "cell_type": "markdown",
   "metadata": {},
   "source": [
    "# Import Data & Packages"
   ]
  },
  {
   "cell_type": "code",
   "execution_count": 1,
   "metadata": {},
   "outputs": [],
   "source": [
    "# Packages\n",
    "import pandas as pd\n",
    "import numpy as np\n",
    "import matplotlib.pyplot as plt\n",
    "import scipy as sp\n",
    "import os\n",
    "import seaborn as sns\n",
    "sns.set_theme(context='notebook')\n",
    "import datetime as dt\n",
    "from sklearn.model_selection import train_test_split, cross_validate, RandomizedSearchCV, GridSearchCV\n",
    "from sklearn.preprocessing import StandardScaler\n",
    "from sklearn.tree import DecisionTreeClassifier\n",
    "from sklearn.dummy import DummyClassifier\n",
    "from sklearn.metrics import classification_report, f1_score\n",
    "from sklearn.ensemble import RandomForestClassifier\n",
    "from sklearn.svm import LinearSVC\n",
    "from sklearn.naive_bayes import GaussianNB\n",
    "from sklearn.linear_model import LogisticRegression\n",
    "from imblearn.over_sampling import SMOTE\n",
    "from sklearn.neural_network import MLPClassifier\n",
    "from tensorflow import keras"
   ]
  },
  {
   "cell_type": "markdown",
   "metadata": {},
   "source": [
    "## Data Import & Cleaning"
   ]
  },
  {
   "cell_type": "markdown",
   "metadata": {},
   "source": [
    "When we clean the errorID column we should think about how we will want to encode the five error codes: one hot encoding, label encoding, or hash encoding.  \n",
    "\n",
    "__Label encoding__ is typically used only for ordinal data, when there is some sort of time order or heirarchy associated with the variable (e.g. schooling or year). I believe this could be used for our case since it is an error ID number \n",
    "__One hot encoding__ makes a new boolean column for each category, where at any given time one column will have a 1, and all other columns are 0. This could work with us, but it will add four more columns and increase our dimensionality.  \n",
    "__Hash encoding__ makes as many new columns as you want and then the combination of the values in the columns equates to a given category, like each column is a single byte of a string. In our case we would use 3 columns, because two columns can make 4 unique values, while 3 columns can make 8 unique values.\n",
    "\n",
    "For our situation there would not be much difference between the one hot encoding method and the hash encoding method. For now, we will use label encoding even though there is not a heirarchy associated with the variable. In order to do this we need to strip the non-numerical characters and convert the data type to an integer."
   ]
  },
  {
   "cell_type": "code",
   "execution_count": 2,
   "metadata": {},
   "outputs": [
    {
     "name": "stderr",
     "output_type": "stream",
     "text": [
      "C:\\Users\\scosam\\Anaconda3\\lib\\site-packages\\pandas\\core\\frame.py:4163: SettingWithCopyWarning: \n",
      "A value is trying to be set on a copy of a slice from a DataFrame\n",
      "\n",
      "See the caveats in the documentation: https://pandas.pydata.org/pandas-docs/stable/user_guide/indexing.html#returning-a-view-versus-a-copy\n",
      "  return super().drop(\n"
     ]
    }
   ],
   "source": [
    "# Data\n",
    "wd = os.getcwd()\n",
    "base_path = wd.replace('notebooks', 'data')\n",
    "\n",
    "# Machine Meta Data \n",
    "mach_meta = pd.read_csv(base_path + '\\\\PdM_machines.csv')\n",
    "\n",
    "# Error Logs\n",
    "err_log = pd.read_csv(base_path + '\\\\PdM_errors.csv')\n",
    "err_log['datetime'] = pd.to_datetime(err_log['datetime'])\n",
    "err_log.set_index('datetime', inplace=True)\n",
    "err_log['errorID'] = err_log['errorID'].map(lambda x: x.lstrip('ero')) #strip the non-numerical characters\n",
    "err_log['errorID'] = err_log['errorID'].astype(int) #convert the error number to an integer\n",
    "\n",
    "# Failure Logs\n",
    "fail_log = pd.read_csv(base_path + '\\\\PdM_failures.csv')\n",
    "fail_log['datetime'] = pd.to_datetime(fail_log['datetime'])\n",
    "fail_log.set_index('datetime', inplace=True)\n",
    "fail_log['Fail'] = 1\n",
    "\n",
    "# Maintenance Logs\n",
    "maint_log = pd.read_csv(base_path + '\\\\PdM_maint.csv')\n",
    "maint_log['datetime'] = pd.to_datetime(maint_log['datetime'])\n",
    "maint_log.set_index('datetime', inplace=True)\n",
    "maint_log['Maint'] = 1\n",
    "\n",
    "# Sensor Data\n",
    "sens_data = pd.read_csv(base_path + '\\\\PdM_telemetry.csv')\n",
    "sens_data['datetime'] = pd.to_datetime(sens_data['datetime'])\n",
    "sens_data.set_index('datetime', inplace=True)\n",
    "\n",
    "# Break the data out for each machine\n",
    "mach_data = [sens_data[sens_data['machineID'] == i] for i in range(1,101)]\n",
    "for x in mach_data:\n",
    "    x.sort_index(axis=0, inplace=True)\n",
    "    x.drop(columns=['machineID'], inplace=True)"
   ]
  },
  {
   "cell_type": "markdown",
   "metadata": {},
   "source": [
    "# Preprocessing"
   ]
  },
  {
   "cell_type": "markdown",
   "metadata": {},
   "source": [
    "For the three methods listed above there are two ways that the data needs to be preprocessed. \n",
    "\n",
    "The remaining useful life requires no feature extraction, but does require breaking the data into individual time series based on the periods of time between failures. The individual time series would then have a new column that has the remaining useul life value, which would be linear decreasing from the start of the series to the failure. Since the machine is not new after being maintenanced or immediately following a failure, it is hard to decide if the remaining useful life should start at 100% at the beginning of a new series or not. Instead of having to decide now, let's pursue this method as our last option if the other methods do not work.\n",
    "\n",
    "The other two methods require rolling the data into windows and using the raw data from those windows or calculating features of the windowed data."
   ]
  },
  {
   "cell_type": "markdown",
   "metadata": {},
   "source": [
    "## Roll Raw Sensor Data"
   ]
  },
  {
   "cell_type": "code",
   "execution_count": 3,
   "metadata": {},
   "outputs": [],
   "source": [
    "def flat_rolling_wndw(wndw_size, mach):\n",
    "    \"\"\"\n",
    "    for getting the raw values of rolled windows instead of features. takes the rolled windows and then flattens them\n",
    "    \"\"\"\n",
    "    col_names = [var + str(i) for i in range(wndw_size) for var in ['Volt-', 'Rot-', 'Press-', 'Vib-']]\n",
    "    df = pd.DataFrame(columns=col_names, index=mach.index)\n",
    "    \n",
    "    rolled = mach.rolling(wndw_size, center=False, axis=0)\n",
    "\n",
    "    i = 0\n",
    "    #can this be completed faster?\n",
    "    for r in rolled:\n",
    "        r.sort_index(ascending=False, inplace=True)\n",
    "        data = r.to_numpy().flatten().tolist()\n",
    "        data = data + [0] * ((4*wndw_size) - len(data))\n",
    "        df.iloc[i] = data \n",
    "        i += 1\n",
    "        \n",
    "    return df"
   ]
  },
  {
   "cell_type": "markdown",
   "metadata": {},
   "source": [
    "## Aggregated Rolled Sensor Data"
   ]
  },
  {
   "cell_type": "code",
   "execution_count": 4,
   "metadata": {},
   "outputs": [],
   "source": [
    "def agg_feats(data, wndw_size, feat_list):\n",
    "    '''\n",
    "    use a rolling window to group the time series data and then return the raw data or statistical values of the data\n",
    "    data: a list of dataframes containing the time series sensor data\n",
    "    wndw_size: number of timestamps to include in the feature creation\n",
    "    feat_list: list of features to calculate on the rolled windows, if jsut the raw data desired use the string 'raw'\n",
    "    '''\n",
    "    if feat_list == 'raw':\n",
    "        rolled_data = [flat_rolling_wndw(wndw_size, mach) for mach in data] \n",
    "    else:\n",
    "        rolled_data = [mach.rolling(wndw_size, center=False, axis=0).agg(feat_list) for mach in data]\n",
    "\n",
    "        for mach in rolled_data:\n",
    "            mach.columns = ['_'.join(col).strip() for col in mach.columns.values] #combine multi level column names\n",
    "            mach.dropna(axis=0, how='all', inplace=True)\n",
    "            \n",
    "    return rolled_data"
   ]
  },
  {
   "cell_type": "markdown",
   "metadata": {},
   "source": [
    "## Add Logs to Rolled Data"
   ]
  },
  {
   "cell_type": "code",
   "execution_count": 5,
   "metadata": {},
   "outputs": [],
   "source": [
    "def add_logs(data, maint, error, failure, offset):\n",
    "    '''\n",
    "    data: list of dataframes containing rolled window features\n",
    "    maint: a log of when maintenace was performed on each machine\n",
    "    error: a log of when errors occured on each machine\n",
    "    '''\n",
    "    for i in range(1, len(data)+1):\n",
    "        # Maintenance only included if it happened in the last hour\n",
    "        ml = maint[maint['machineID'] == i]\n",
    "        data[i-1] = data[i-1].merge(ml['Maint'], how='left', on='datetime')\n",
    "\n",
    "        # Error only included if it occured in the last hour\n",
    "        err = error[error['machineID'] == i]\n",
    "        data[i-1] = data[i-1].merge(err['errorID'], how='left', on='datetime')\n",
    "        \n",
    "        # Failures that occur in the future by the specified offset\n",
    "        fl = failure[failure['machineID'] == i]\n",
    "        fl.index = fl.index - dt.timedelta(hours=offset)\n",
    "        data[i-1] = data[i-1].merge(fl['Fail'], how='left', on='datetime')\n",
    "\n",
    "        data[i-1].fillna(0, inplace=True)\n",
    "        \n",
    "    return data"
   ]
  },
  {
   "cell_type": "markdown",
   "metadata": {},
   "source": [
    "## Merge All Machines"
   ]
  },
  {
   "cell_type": "code",
   "execution_count": 6,
   "metadata": {},
   "outputs": [],
   "source": [
    "def merge_data(indv_data):\n",
    "    '''\n",
    "    merge all machine data into a single data frame instead of a list of dataframes\n",
    "    '''\n",
    "    data = pd.DataFrame(columns = indv_data[0].columns)\n",
    "\n",
    "    for i in range(len(indv_data)):\n",
    "        data = pd.concat([data, indv_data[i]], axis=0, ignore_index=True)\n",
    "        \n",
    "    return data"
   ]
  },
  {
   "cell_type": "markdown",
   "metadata": {},
   "source": [
    "## Train Test Splitting"
   ]
  },
  {
   "cell_type": "code",
   "execution_count": 7,
   "metadata": {},
   "outputs": [],
   "source": [
    "def split_data(df, test_size):\n",
    "    X = df.drop(columns=['Fail'])\n",
    "    y = df['Fail']\n",
    "    \n",
    "    return train_test_split(X, y, test_size=test_size)"
   ]
  },
  {
   "cell_type": "markdown",
   "metadata": {},
   "source": [
    "## Normalizing"
   ]
  },
  {
   "cell_type": "code",
   "execution_count": 8,
   "metadata": {},
   "outputs": [],
   "source": [
    "def normalize(df, test_size, excluded):\n",
    "    '''\n",
    "    Scale the sensor data and split it into a training and testing split.\n",
    "    df: The dataframe to perform the scaling and splitting on\n",
    "    test_size: percent of data to hold off for model testing\n",
    "    excluded: list of columns that do not require scaling\n",
    "    '''\n",
    "    X_train, X_test, y_train, y_test = split_data(df, test_size)\n",
    "    X_train_ex = X_train.drop(columns=excluded)\n",
    "    X_test_ex = X_test.drop(columns=excluded)\n",
    "    col_names = X_train_ex.columns\n",
    "    train_inds = X_train.index\n",
    "    test_inds = X_test.index\n",
    "    ss = StandardScaler()\n",
    "    ss.fit(X_train_ex)\n",
    "    X_train_ex = pd.DataFrame(ss.transform(X_train_ex), columns=col_names, index=train_inds)\n",
    "    X_test_ex = pd.DataFrame(ss.transform(X_test_ex), columns=col_names, index=test_inds)\n",
    "    X_train = pd.concat([X_train_ex, X_train[excluded]], axis=1)\n",
    "    X_test = pd.concat([X_test_ex, X_test[excluded]], axis=1)\n",
    "    \n",
    "    return X_train, X_test, y_train, y_test\n",
    "\n"
   ]
  },
  {
   "cell_type": "markdown",
   "metadata": {},
   "source": [
    "# Model Creation"
   ]
  },
  {
   "cell_type": "markdown",
   "metadata": {},
   "source": [
    "Evaluation criteria selection:  \n",
    "The overall goal for this model is to be able to always predict when a failure will occur without too much nuissance tripping. Having a bias towards getting 100% of the true positives, would mean that we want to have high recall for failure. However, since we also want to avoid nuissance tripping we also want to have a fairly high precision. Having high precision and recall essentially means we want to maximize our f1 score. having a high f1 score means that when the model flags \n",
    "\n",
    "Due to the nature of the problem and how little failures there are (700 in total), there is not a good baseline model to use. Obviously, if we always predict that a failure will occur then we will have 100% recall, but our precision would be 0, which would not be actually helpful since everyone would learn to ignore it due to it constantly crying wolf. However, just to get an idea of a worst case scenario we can make a couple of models that randomly guess if there will be a failure to get an idea of the distribution we can expect from it. After that, we can create a simple decision tree to give us a reasonable baseline score and help us identify some the aspects of the data that are useful for predicting failure."
   ]
  },
  {
   "cell_type": "markdown",
   "metadata": {},
   "source": [
    "## Standard Boolean Models"
   ]
  },
  {
   "cell_type": "code",
   "execution_count": 9,
   "metadata": {},
   "outputs": [
    {
     "name": "stderr",
     "output_type": "stream",
     "text": [
      "<ipython-input-3-42800cc6583b>:13: SettingWithCopyWarning: \n",
      "A value is trying to be set on a copy of a slice from a DataFrame\n",
      "\n",
      "See the caveats in the documentation: https://pandas.pydata.org/pandas-docs/stable/user_guide/indexing.html#returning-a-view-versus-a-copy\n",
      "  r.sort_index(ascending=False, inplace=True)\n"
     ]
    },
    {
     "data": {
      "image/png": "[encoded data removed]",
      "text/plain": [
       "<Figure size 720x576 with 1 Axes>"
      ]
     },
     "metadata": {},
     "output_type": "display_data"
    }
   ],
   "source": [
    "wndw_size = 5 #use most the 5 most recent sensor values\n",
    "offset = 5 # predict failure 5 timestamps in the future\n",
    "test_size = 0.3\n",
    "excluded = ['errorID', 'Maint']\n",
    "\n",
    "raw_rolled = agg_feats(mach_data, wndw_size, 'raw')\n",
    "raw_rolled = add_logs(raw_rolled, maint_log, err_log, fail_log, offset)\n",
    "raw_vals = merge_data(raw_rolled)\n",
    "X_train, X_test, y_train, y_test = normalize(raw_vals, test_size, excluded)\n",
    "\n",
    "dummy_f1 = [] #get multiple f1 scores to determine the distribution\n",
    "for i in range(200):\n",
    "    dc = DummyClassifier(strategy='uniform')\n",
    "    dc.fit(X_train, y_train)\n",
    "    dummy_f1.append(f1_score(y_train, dc.predict(X_train)))\n",
    "\n",
    "fig = plt.figure(figsize=(10,8))\n",
    "sns.histplot(x=dummy_f1, bins=int(np.sqrt(200)))\n",
    "plt.xlabel('f1 score')\n",
    "\n",
    "plt.show()"
   ]
  },
  {
   "cell_type": "markdown",
   "metadata": {},
   "source": [
    "A random guessing model results theoretically in a f1 score of 0.0016, with the average of the 200 sample models hovering around 0.00175, so there is a lot of room for improvement."
   ]
  },
  {
   "cell_type": "code",
   "execution_count": 10,
   "metadata": {},
   "outputs": [
    {
     "name": "stdout",
     "output_type": "stream",
     "text": [
      "max f1 score: 0.08534322820037106\n"
     ]
    },
    {
     "data": {
      "image/png": "[encoded data removed]",
      "text/plain": [
       "<Figure size 720x576 with 1 Axes>"
      ]
     },
     "metadata": {},
     "output_type": "display_data"
    }
   ],
   "source": [
    "tree_f1_train = []\n",
    "tree_f1_test = []\n",
    "max_depth = 102\n",
    "\n",
    "for i in range(1, max_depth, 5):\n",
    "    tree_raw = DecisionTreeClassifier(max_depth=i, class_weight='balanced', random_state=100) # increases the weighting of the failure due to there being less of them\n",
    "    tree_raw.fit(X_train, y_train)\n",
    "    tree_f1_train.append(f1_score(y_train, tree_raw.predict(X_train)))\n",
    "    tree_f1_test.append(f1_score(y_test, tree_raw.predict(X_test)))\n",
    "\n",
    "print('max f1 score: {}'.format(max(tree_f1_test)))\n",
    "fig = plt.figure(figsize=(10,8))\n",
    "plt.plot(range(1, max_depth, 5), tree_f1_train, marker='o', label='train')\n",
    "plt.plot(range(1, max_depth, 5), tree_f1_test, marker='o', label='test')\n",
    "plt.legend()\n",
    "plt.ylabel('f1_score')\n",
    "plt.xlabel('tree max depth')\n",
    "\n",
    "plt.show()"
   ]
  },
  {
   "cell_type": "markdown",
   "metadata": {},
   "source": [
    "Suprisingly we never seem to hit an overfitting condition, but hit the maximum depth splits around 85 when we start to get perfect training scores. Although the training score improved dramatically, our test score peaked out around 0.075. Even though this represents a 42x improvement over the baseline random guessing model, it is still far from good. One thing we could do is feed the model engineered features instead of the raw data for a 5 hour period."
   ]
  },
  {
   "cell_type": "code",
   "execution_count": 11,
   "metadata": {},
   "outputs": [
    {
     "name": "stdout",
     "output_type": "stream",
     "text": [
      "max f1 score: 0.08842105263157896\n"
     ]
    },
    {
     "data": {
      "image/png": "[encoded data removed]",
      "text/plain": [
       "<Figure size 720x576 with 1 Axes>"
      ]
     },
     "metadata": {},
     "output_type": "display_data"
    }
   ],
   "source": [
    "feat_list = ['min', 'max', 'mean', 'sum', 'std', 'skew', 'kurt']\n",
    "test_size = 0.3\n",
    "excluded = ['errorID', 'Maint']\n",
    "\n",
    "feat_rolled = agg_feats(mach_data, wndw_size, feat_list)\n",
    "feat_rolled = add_logs(feat_rolled, maint_log, err_log, fail_log, offset)\n",
    "feat_vals = merge_data(feat_rolled)\n",
    "X_train, X_test, y_train, y_test = normalize(feat_vals, test_size, excluded)\n",
    "\n",
    "tree_f1_train = []\n",
    "tree_f1_test = []\n",
    "\n",
    "for i in range(1, max_depth, 5):\n",
    "    tree_raw = DecisionTreeClassifier(max_depth=i, class_weight='balanced', random_state=100) # increases the weighting of the failure due to there being less of them\n",
    "    tree_raw.fit(X_train, y_train)\n",
    "    tree_f1_train.append(f1_score(y_train, tree_raw.predict(X_train)))\n",
    "    tree_f1_test.append(f1_score(y_test, tree_raw.predict(X_test)))\n",
    "\n",
    "print('max f1 score: {}'.format(max(tree_f1_test)))\n",
    "fig = plt.figure(figsize=(10,8))\n",
    "plt.plot(range(1,max_depth, 5), tree_f1_train, marker='o', label='train')\n",
    "plt.plot(range(1,max_depth, 5), tree_f1_test, marker='o', label='test')\n",
    "plt.legend()\n",
    "plt.ylabel('f1_score')\n",
    "plt.xlabel('tree max depth')\n",
    "\n",
    "plt.show()"
   ]
  },
  {
   "cell_type": "markdown",
   "metadata": {},
   "source": [
    "There may be a slight improvement, but suprisingly not much over the raw data, and still very far away from what we would like. Now, we should start looking at some more complex models and using crossfold validation."
   ]
  },
  {
   "cell_type": "code",
   "execution_count": 13,
   "metadata": {},
   "outputs": [
    {
     "name": "stdout",
     "output_type": "stream",
     "text": [
      "Fitting 3 folds for each of 30 candidates, totalling 90 fits\n",
      "The best score obtain was 0.05243420653491517 using {'n_estimators': 104, 'max_depth': 46} parameters\n"
     ]
    }
   ],
   "source": [
    "params ={'max_depth': np.linspace(30, 70, 80-29, dtype=int), 'n_estimators': np.linspace(80, 120, 120-79, dtype=int)}\n",
    "rf = RandomForestClassifier(class_weight='balanced')\n",
    "rscv = RandomizedSearchCV(rf, params, cv=3, verbose=1, n_jobs=6, scoring='f1', return_train_score=True, n_iter=30)\n",
    "rscv.fit(X_train, y_train)\n",
    "\n",
    "print('The best score obtain was {} using {} parameters'.format(rscv.best_score_, rscv.best_params_))"
   ]
  },
  {
   "cell_type": "markdown",
   "metadata": {},
   "source": [
    "Now with some optimization and more complex models we are nearing the E-1 range, but still far from something that could be useful. The next thing we can do is set up a model pipeline capable of varying the number of data points used to create our engineered features, and prediction time horizon. Once the pipeline is established we can test multiple model types to see if we can actually make an improvement."
   ]
  },
  {
   "cell_type": "code",
   "execution_count": 14,
   "metadata": {},
   "outputs": [],
   "source": [
    "def pipeline(data, wndw_size, feat_list, maint_log, err_log, fail_log, fail_offset, test_size, excluded):\n",
    "    \n",
    "    #Break the data into windows\n",
    "    feat_data = agg_feats(data, wndw_size, feat_list)\n",
    "    \n",
    "    # Add log data\n",
    "    log_data = add_logs(feat_data, maint_log, err_log, fail_log, fail_offset)\n",
    "    \n",
    "    # Merge data\n",
    "    merged_data = merge_data(log_data)\n",
    "    \n",
    "    # Normalize the data\n",
    "    X_train, X_test, y_train, y_test = normalize(merged_data, test_size, excluded)\n",
    "    \n",
    "    return X_train, X_test, y_train, y_test"
   ]
  },
  {
   "cell_type": "markdown",
   "metadata": {},
   "source": [
    "Now that our pipeline is established, we can quickly evaluate how the window size and the time prediction offset impacts our score while using multiple model algorithms."
   ]
  },
  {
   "cell_type": "code",
   "execution_count": 15,
   "metadata": {},
   "outputs": [],
   "source": [
    "wndw_sizes = [5, 10]\n",
    "offsets = [5]\n",
    "models = {'rf': RandomForestClassifier(class_weight='balanced', n_estimators=125, max_depth=33), \n",
    "          'lr': LogisticRegression(class_weight='balanced'), \n",
    "          'svc': LinearSVC(class_weight='balanced')}\n",
    "\n",
    "performance = []\n",
    "for size in wndw_sizes:\n",
    "    for offset in offsets:\n",
    "        X_train, X_test, y_train, y_test = pipeline(mach_data, size, feat_list, maint_log, err_log, fail_log, offset, test_size, excluded)\n",
    "        for model in models.keys():\n",
    "            performance.append([model, size, offset, cross_validate(models[model], X_train, y_train, scoring='f1', cv=3, n_jobs=3, return_train_score=True)])"
   ]
  },
  {
   "cell_type": "code",
   "execution_count": 16,
   "metadata": {},
   "outputs": [
    {
     "data": {
      "text/html": [
       "<div>\n",
       "<style scoped>\n",
       "    .dataframe tbody tr th:only-of-type {\n",
       "        vertical-align: middle;\n",
       "    }\n",
       "\n",
       "    .dataframe tbody tr th {\n",
       "        vertical-align: top;\n",
       "    }\n",
       "\n",
       "    .dataframe thead th {\n",
       "        text-align: right;\n",
       "    }\n",
       "</style>\n",
       "<table border=\"1\" class=\"dataframe\">\n",
       "  <thead>\n",
       "    <tr style=\"text-align: right;\">\n",
       "      <th></th>\n",
       "      <th>model type</th>\n",
       "      <th>wndw_size</th>\n",
       "      <th>prediction_offset</th>\n",
       "      <th>test_scores</th>\n",
       "    </tr>\n",
       "  </thead>\n",
       "  <tbody>\n",
       "    <tr>\n",
       "      <th>0</th>\n",
       "      <td>rf</td>\n",
       "      <td>5</td>\n",
       "      <td>5</td>\n",
       "      <td>0.039635</td>\n",
       "    </tr>\n",
       "    <tr>\n",
       "      <th>3</th>\n",
       "      <td>rf</td>\n",
       "      <td>10</td>\n",
       "      <td>5</td>\n",
       "      <td>0.022220</td>\n",
       "    </tr>\n",
       "    <tr>\n",
       "      <th>4</th>\n",
       "      <td>lr</td>\n",
       "      <td>10</td>\n",
       "      <td>5</td>\n",
       "      <td>0.009985</td>\n",
       "    </tr>\n",
       "    <tr>\n",
       "      <th>1</th>\n",
       "      <td>lr</td>\n",
       "      <td>5</td>\n",
       "      <td>5</td>\n",
       "      <td>0.006718</td>\n",
       "    </tr>\n",
       "    <tr>\n",
       "      <th>5</th>\n",
       "      <td>svc</td>\n",
       "      <td>10</td>\n",
       "      <td>5</td>\n",
       "      <td>0.006109</td>\n",
       "    </tr>\n",
       "    <tr>\n",
       "      <th>2</th>\n",
       "      <td>svc</td>\n",
       "      <td>5</td>\n",
       "      <td>5</td>\n",
       "      <td>0.000000</td>\n",
       "    </tr>\n",
       "  </tbody>\n",
       "</table>\n",
       "</div>"
      ],
      "text/plain": [
       "  model type  wndw_size  prediction_offset  test_scores\n",
       "0         rf          5                  5     0.039635\n",
       "3         rf         10                  5     0.022220\n",
       "4         lr         10                  5     0.009985\n",
       "1         lr          5                  5     0.006718\n",
       "5        svc         10                  5     0.006109\n",
       "2        svc          5                  5     0.000000"
      ]
     },
     "execution_count": 16,
     "metadata": {},
     "output_type": "execute_result"
    }
   ],
   "source": [
    "perf_df = pd.DataFrame(performance, columns = ['model type', 'wndw_size', 'prediction_offset', 'model_performance'])\n",
    "test_scores = [np.mean(perf_df['model_performance'].loc[i]['test_score']) for i in range(len(perf_df))]\n",
    "perf_df['test_scores'] = test_scores\n",
    "perf_df.drop(columns=['model_performance'], inplace=True)\n",
    "perf_df.sort_values('test_scores', ascending=False)"
   ]
  },
  {
   "cell_type": "markdown",
   "metadata": {},
   "source": [
    "the general performance of the ranking, without too much optimization of hyperparameters is random forest, logistic regression, gaussian naive bayes, and lastly SVC. none of which were able to break past our optimized random forest model that obtained a f1 score of 0.06. Perhaps the next step is to use an even more advanced model such as a neural net. However, we will need to oversample the failure data since there is no weighting function available withing MLPClassifier."
   ]
  },
  {
   "cell_type": "markdown",
   "metadata": {},
   "source": [
    "## Oversampling"
   ]
  },
  {
   "cell_type": "code",
   "execution_count": 15,
   "metadata": {},
   "outputs": [],
   "source": [
    "def new_samples(X, y):\n",
    "    oversample = SMOTE()\n",
    "    return oversample.fit_resample(X, y)\n",
    "\n",
    "# update split data function\n",
    "def split_data(df, test_size):\n",
    "    X = df.drop(columns=['Fail'])\n",
    "    y = df['Fail']\n",
    "    \n",
    "    X, y = new_samples(X, y)\n",
    "    \n",
    "    return train_test_split(X, y, test_size=test_size)"
   ]
  },
  {
   "cell_type": "markdown",
   "metadata": {},
   "source": [
    "## Advanced Boolean Methods"
   ]
  },
  {
   "cell_type": "code",
   "execution_count": 26,
   "metadata": {},
   "outputs": [
    {
     "name": "stdout",
     "output_type": "stream",
     "text": [
      "Train Results\n",
      "              precision    recall  f1-score   support\n",
      "\n",
      "         0.0       1.00      0.99      0.99    612612\n",
      "         1.0       0.99      1.00      0.99    613095\n",
      "\n",
      "    accuracy                           0.99   1225707\n",
      "   macro avg       0.99      0.99      0.99   1225707\n",
      "weighted avg       0.99      0.99      0.99   1225707\n",
      "\n",
      "Test Results\n",
      "              precision    recall  f1-score   support\n",
      "\n",
      "         0.0       1.00      0.99      0.99    262893\n",
      "         1.0       0.99      1.00      0.99    262410\n",
      "\n",
      "    accuracy                           0.99    525303\n",
      "   macro avg       0.99      0.99      0.99    525303\n",
      "weighted avg       0.99      0.99      0.99    525303\n",
      "\n",
      "{'alpha': 0.0001}\n"
     ]
    }
   ],
   "source": [
    "X_train, X_test, y_train, y_test = pipeline(mach_data, 10, feat_list, maint_log, err_log, fail_log, 5, test_size, excluded)\n",
    "nn_class = MLPClassifier(random_state=100, max_iter=1000)\n",
    "params = {'alpha': [1e-5, 1e-4, 1e-3, 1e-2]}\n",
    "grid = GridSearchCV(nn_class, params, scoring='f1', cv=3, n_jobs=3, return_train_score=True)\n",
    "grid.fit(X_train, y_train)\n",
    "print('Train Results')\n",
    "print(classification_report(y_train, grid.best_estimator_.predict(X_train)))\n",
    "print('Test Results')\n",
    "print(classification_report(y_test, grid.best_estimator_.predict(X_test)))\n",
    "print(grid.best_params_)"
   ]
  },
  {
   "cell_type": "markdown",
   "metadata": {},
   "source": [
    "Now with an increased amount of failure samples we can get our recall up to nearly 100%. However, I am curious still to see how the neural net would perform on test data that did not have SMOTE failures, but just the original unbalanced test dataset. let's repeat this work with only the trainig data being balanced, and then let's try the random forest method again."
   ]
  },
  {
   "cell_type": "code",
   "execution_count": 16,
   "metadata": {},
   "outputs": [],
   "source": [
    "# revert the split function\n",
    "def split_data(df, test_size):\n",
    "    X = df.drop(columns=['Fail'])\n",
    "    y = df['Fail']\n",
    "    \n",
    "    return train_test_split(X, y, test_size=test_size)"
   ]
  },
  {
   "cell_type": "code",
   "execution_count": 32,
   "metadata": {},
   "outputs": [
    {
     "name": "stdout",
     "output_type": "stream",
     "text": [
      "Train Results\n",
      "              precision    recall  f1-score   support\n",
      "\n",
      "         0.0       1.00      0.99      1.00    612871\n",
      "         1.0       0.99      1.00      1.00    612871\n",
      "\n",
      "    accuracy                           1.00   1225742\n",
      "   macro avg       1.00      1.00      1.00   1225742\n",
      "weighted avg       1.00      1.00      1.00   1225742\n",
      "\n",
      "Test Results\n",
      "              precision    recall  f1-score   support\n",
      "\n",
      "         0.0       1.00      0.99      1.00    262634\n",
      "         1.0       0.01      0.11      0.03       246\n",
      "\n",
      "    accuracy                           0.99    262880\n",
      "   macro avg       0.51      0.55      0.51    262880\n",
      "weighted avg       1.00      0.99      1.00    262880\n",
      "\n"
     ]
    }
   ],
   "source": [
    "# using last 10 hours of data to predict if failure occurs 5 hours in the future\n",
    "X_train, X_test, y_train, y_test = pipeline(mach_data, 10, feat_list, maint_log, err_log, fail_log, 5, test_size, excluded)\n",
    "X_train, y_train = new_samples(X_train, y_train)\n",
    "nn_class = MLPClassifier(random_state=100, max_iter=1000, alpha=0.0001)\n",
    "nn_class.fit(X_train, y_train)\n",
    "print('Train Results')\n",
    "print(classification_report(y_train, nn_class.predict(X_train)))\n",
    "print('Test Results')\n",
    "print(classification_report(y_test, nn_class.predict(X_test)))"
   ]
  },
  {
   "cell_type": "markdown",
   "metadata": {},
   "source": [
    "So using non-modified test features results in poor performance, but the score is sitll good for the training dataset. This indicates that we are overfitting, or there is something fundamentaly different between the SMOTE generated values and the original values. However, I think it more so has to do with the SMOTE values that were generated being more similar to each other especially since the values generated are influenced by the values used in the training. We could also try copying the values, which again could lead to overfitting of the training values."
   ]
  },
  {
   "cell_type": "code",
   "execution_count": 33,
   "metadata": {},
   "outputs": [
    {
     "name": "stdout",
     "output_type": "stream",
     "text": [
      "Train Results\n",
      "              precision    recall  f1-score   support\n",
      "\n",
      "         0.0       1.00      0.99      1.00    612860\n",
      "         1.0       0.99      1.00      1.00    612860\n",
      "\n",
      "    accuracy                           1.00   1225720\n",
      "   macro avg       1.00      1.00      1.00   1225720\n",
      "weighted avg       1.00      1.00      1.00   1225720\n",
      "\n",
      "Test Results\n",
      "              precision    recall  f1-score   support\n",
      "\n",
      "         0.0       0.56      0.99      0.71    262645\n",
      "         1.0       0.97      0.21      0.35    262645\n",
      "\n",
      "    accuracy                           0.60    525290\n",
      "   macro avg       0.76      0.60      0.53    525290\n",
      "weighted avg       0.76      0.60      0.53    525290\n",
      "\n"
     ]
    }
   ],
   "source": [
    "# using last 10 hours of data to predict if failure occurs 5 hours in the future\n",
    "X_train, X_test, y_train, y_test = pipeline(mach_data, 10, feat_list, maint_log, err_log, fail_log, 5, test_size, excluded)\n",
    "X_train, y_train = new_samples(X_train, y_train)\n",
    "X_test, y_test = new_samples(X_test, y_test)\n",
    "nn_class = MLPClassifier(random_state=100, max_iter=1000, alpha=0.0001)\n",
    "nn_class.fit(X_train, y_train)\n",
    "print('Train Results')\n",
    "print(classification_report(y_train, nn_class.predict(X_train)))\n",
    "print('Test Results')\n",
    "print(classification_report(y_test, nn_class.predict(X_test)))"
   ]
  },
  {
   "cell_type": "markdown",
   "metadata": {},
   "source": [
    "using the SMOTE method, but keeping he training and testing data seperate to avoid contamination we still get a fairly low f1 score, but significantly better than our basic model that randomly guessed if a failure was going ot occur or not."
   ]
  },
  {
   "cell_type": "code",
   "execution_count": 34,
   "metadata": {},
   "outputs": [
    {
     "name": "stdout",
     "output_type": "stream",
     "text": [
      "Train Results\n",
      "              precision    recall  f1-score   support\n",
      "\n",
      "         0.0       1.00      1.00      1.00    612846\n",
      "         1.0       1.00      1.00      1.00    612846\n",
      "\n",
      "    accuracy                           1.00   1225692\n",
      "   macro avg       1.00      1.00      1.00   1225692\n",
      "weighted avg       1.00      1.00      1.00   1225692\n",
      "\n",
      "Test Results\n",
      "              precision    recall  f1-score   support\n",
      "\n",
      "         0.0       0.53      1.00      0.69    262659\n",
      "         1.0       0.98      0.11      0.20    262659\n",
      "\n",
      "    accuracy                           0.55    525318\n",
      "   macro avg       0.75      0.55      0.44    525318\n",
      "weighted avg       0.75      0.55      0.44    525318\n",
      "\n",
      "{'alpha': 0.0001, 'hidden_layer_sizes': (100, 100)}\n"
     ]
    }
   ],
   "source": [
    "X_train, X_test, y_train, y_test = pipeline(mach_data, 10, feat_list, maint_log, err_log, fail_log, 5, test_size, excluded)\n",
    "X_train, y_train = new_samples(X_train, y_train)\n",
    "X_test, y_test = new_samples(X_test, y_test)\n",
    "nn_class = MLPClassifier(random_state=100, max_iter=1000)\n",
    "params = {'alpha': [1e-5, 1e-4, 1e-3, 1e-2], 'hidden_layer_sizes': [(100,), (50,50), (100,100), (50,)]}\n",
    "grid = GridSearchCV(nn_class, params, scoring='f1', cv=3, n_jobs=3, return_train_score=True)\n",
    "grid.fit(X_train, y_train)\n",
    "print('Train Results')\n",
    "print(classification_report(y_train, grid.best_estimator_.predict(X_train)))\n",
    "print('Test Results')\n",
    "print(classification_report(y_test, grid.best_estimator_.predict(X_test)))\n",
    "print(grid.best_params_)"
   ]
  },
  {
   "cell_type": "markdown",
   "metadata": {},
   "source": [
    "It is still overfitting because it is using a portion of the training data as the test data to determine whic model is best. We need to instead seperate our data into three groups, train, test and validate. These individually could be oversampled and the test data could be used for hyperparameter determination, then use the validation data as our final test to verify we have a good model."
   ]
  },
  {
   "cell_type": "code",
   "execution_count": 18,
   "metadata": {},
   "outputs": [],
   "source": [
    "# neural net with three data partitions\n",
    "feat_list = ['min', 'max', 'mean', 'sum', 'std', 'skew', 'kurt']\n",
    "excluded = ['errorID', 'Maint']\n",
    "\n",
    "X_train, X_test, y_train, y_test = pipeline(mach_data, 10, feat_list, maint_log, err_log, fail_log, 5, 0.5, excluded)\n",
    "X_train, y_train = new_samples(X_train, y_train)\n",
    "X_test, X_val, y_test, y_val = train_test_split(X_test, y_test, test_size=.3)\n",
    "X_test, y_test = new_samples(X_test, y_test)\n",
    "X_val, y_val = new_samples(X_val, y_val)\n",
    "\n",
    "alpha = [1e-5, 1e-4, 1e-3]\n",
    "hidden_layers = [(100,), (50,50), (50,)]\n",
    "models = []\n",
    "\n",
    "for a in alpha:\n",
    "    for hl in hidden_layers:\n",
    "        nn_class = MLPClassifier(random_state=100, max_iter=1000, alpha=a, hidden_layer_sizes=hl)\n",
    "        nn_class.fit(X_train, y_train)\n",
    "        models.append([nn_class, f1_score(y_test, nn_class.predict(X_test))])"
   ]
  },
  {
   "cell_type": "code",
   "execution_count": 26,
   "metadata": {},
   "outputs": [
    {
     "name": "stdout",
     "output_type": "stream",
     "text": [
      "Training Data\n",
      "              precision    recall  f1-score   support\n",
      "\n",
      "         0.0       1.00      0.98      0.99    437785\n",
      "         1.0       0.98      1.00      0.99    437785\n",
      "\n",
      "    accuracy                           0.99    875570\n",
      "   macro avg       0.99      0.99      0.99    875570\n",
      "weighted avg       0.99      0.99      0.99    875570\n",
      "\n",
      "Validation Data\n",
      "              precision    recall  f1-score   support\n",
      "\n",
      "         0.0       0.59      0.98      0.74    131320\n",
      "         1.0       0.95      0.33      0.49    131320\n",
      "\n",
      "    accuracy                           0.66    262640\n",
      "   macro avg       0.77      0.66      0.62    262640\n",
      "weighted avg       0.77      0.66      0.62    262640\n",
      "\n"
     ]
    }
   ],
   "source": [
    "print('Training Data')\n",
    "print(classification_report(y_train, models[-1][0].predict(X_train)))\n",
    "print('Validation Data')\n",
    "print(classification_report(y_val, models[-1][0].predict(X_val)))"
   ]
  },
  {
   "cell_type": "markdown",
   "metadata": {},
   "source": [
    "The best model, based on the test f1 score, ended up having the least amount of nodes, with just a single hidden layer of 50 nodes. I think there is still room for improvement since we may be overfitting the data still since the algorithm determines when to stop based on if the score changes much, so it is using the training data to determine when convergence is achieved. we could however use test data to determine when convergence is achieved if we use a different package for creating our nerual network."
   ]
  },
  {
   "cell_type": "code",
   "execution_count": 40,
   "metadata": {},
   "outputs": [],
   "source": [
    "def make_model(input_shape, hidden_nodes):\n",
    "    model = keras.models.Sequential()\n",
    "    model.add(keras.Input(input_shape)) #input layer\n",
    "    model.add(keras.layers.Dense(hidden_nodes, activation='relu')) #hidden layer 1\n",
    "    model.add(keras.layers.Dense(1, activation='sigmoid')) #output layer\n",
    "    \n",
    "    return model"
   ]
  },
  {
   "cell_type": "code",
   "execution_count": 17,
   "metadata": {},
   "outputs": [],
   "source": [
    "\n",
    "feat_list = ['min', 'max', 'mean', 'sum', 'std', 'skew', 'kurt']\n",
    "excluded = ['errorID', 'Maint']\n",
    "\n",
    "X_train, X_test, y_train, y_test = pipeline(mach_data, 10, feat_list, maint_log, err_log, fail_log, 5, 0.5, excluded)\n",
    "X_train, y_train = new_samples(X_train, y_train)\n",
    "X_test, X_val, y_test, y_val = train_test_split(X_test, y_test, test_size=.3)\n",
    "X_test, y_test = new_samples(X_test, y_test)\n",
    "X_val, y_val = new_samples(X_val, y_val)"
   ]
  },
  {
   "cell_type": "code",
   "execution_count": 57,
   "metadata": {},
   "outputs": [
    {
     "name": "stdout",
     "output_type": "stream",
     "text": [
      "You must install pydot (`pip install pydot`) and install graphviz (see instructions at https://graphviz.gitlab.io/download/) for plot_model/model_to_dot to work.\n",
      "Epoch 1/100\n",
      "27360/27360 [==============================] - 31s 1ms/step - loss: 0.1418 - precision_11: 0.9326 - recall_11: 0.9851 - val_loss: 0.6122 - val_precision_11: 0.9274 - val_recall_11: 0.6844\n",
      "Epoch 2/100\n",
      "27360/27360 [==============================] - 32s 1ms/step - loss: 0.0934 - precision_11: 0.9575 - recall_11: 0.9893 - val_loss: 0.8314 - val_precision_11: 0.9252 - val_recall_11: 0.5880\n",
      "Epoch 3/100\n",
      "27360/27360 [==============================] - 31s 1ms/step - loss: 0.0806 - precision_11: 0.9650 - recall_11: 0.9906 - val_loss: 1.1250 - val_precision_11: 0.9320 - val_recall_11: 0.5309\n",
      "Epoch 4/100\n",
      "27360/27360 [==============================] - 32s 1ms/step - loss: 0.0742 - precision_11: 0.9682 - recall_11: 0.9913 - val_loss: 1.1135 - val_precision_11: 0.9328 - val_recall_11: 0.5479\n",
      "Epoch 5/100\n",
      "27360/27360 [==============================] - 30s 1ms/step - loss: 0.0694 - precision_11: 0.9707 - recall_11: 0.9919 - val_loss: 1.6367 - val_precision_11: 0.9368 - val_recall_11: 0.3910\n",
      "Epoch 6/100\n",
      "27360/27360 [==============================] - 31s 1ms/step - loss: 0.0659 - precision_11: 0.9726 - recall_11: 0.9923 - val_loss: 1.4909 - val_precision_11: 0.9369 - val_recall_11: 0.4560\n",
      "Epoch 7/100\n",
      "27360/27360 [==============================] - 31s 1ms/step - loss: 0.0630 - precision_11: 0.9740 - recall_11: 0.9926 - val_loss: 1.6185 - val_precision_11: 0.9414 - val_recall_11: 0.4138\n",
      "Epoch 8/100\n",
      "27360/27360 [==============================] - 31s 1ms/step - loss: 0.0601 - precision_11: 0.9752 - recall_11: 0.9932 - val_loss: 1.5322 - val_precision_11: 0.9390 - val_recall_11: 0.4693\n",
      "Epoch 9/100\n",
      "27360/27360 [==============================] - 30s 1ms/step - loss: 0.0586 - precision_11: 0.9760 - recall_11: 0.9932 - val_loss: 1.5802 - val_precision_11: 0.9388 - val_recall_11: 0.4736\n",
      "Epoch 10/100\n",
      "27360/27360 [==============================] - 30s 1ms/step - loss: 0.0569 - precision_11: 0.9768 - recall_11: 0.9934 - val_loss: 1.9951 - val_precision_11: 0.9443 - val_recall_11: 0.3791\n",
      "Epoch 11/100\n",
      "27360/27360 [==============================] - 30s 1ms/step - loss: 0.0561 - precision_11: 0.9774 - recall_11: 0.9934 - val_loss: 1.9534 - val_precision_11: 0.9431 - val_recall_11: 0.3676\n",
      "Epoch 12/100\n",
      "27360/27360 [==============================] - 32s 1ms/step - loss: 0.0545 - precision_11: 0.9780 - recall_11: 0.9937 - val_loss: 2.1396 - val_precision_11: 0.9400 - val_recall_11: 0.3832\n",
      "Epoch 13/100\n",
      "27360/27360 [==============================] - 34s 1ms/step - loss: 0.0542 - precision_11: 0.9784 - recall_11: 0.9934 - val_loss: 1.9705 - val_precision_11: 0.9412 - val_recall_11: 0.4143\n",
      "Epoch 14/100\n",
      "27360/27360 [==============================] - 35s 1ms/step - loss: 0.0526 - precision_11: 0.9791 - recall_11: 0.9941 - val_loss: 2.0292 - val_precision_11: 0.9371 - val_recall_11: 0.3669\n",
      "Epoch 15/100\n",
      "27360/27360 [==============================] - 32s 1ms/step - loss: 0.0518 - precision_11: 0.9796 - recall_11: 0.9942 - val_loss: 2.4419 - val_precision_11: 0.9488 - val_recall_11: 0.3060\n",
      "Epoch 16/100\n",
      "27360/27360 [==============================] - 32s 1ms/step - loss: 0.0510 - precision_11: 0.9798 - recall_11: 0.9942 - val_loss: 2.0812 - val_precision_11: 0.9438 - val_recall_11: 0.4040\n",
      "Epoch 17/100\n",
      "27360/27360 [==============================] - 31s 1ms/step - loss: 0.0508 - precision_11: 0.9801 - recall_11: 0.9941 - val_loss: 1.9675 - val_precision_11: 0.9425 - val_recall_11: 0.4146\n",
      "Epoch 18/100\n",
      "27360/27360 [==============================] - 32s 1ms/step - loss: 0.0496 - precision_11: 0.9806 - recall_11: 0.9944 - val_loss: 2.6682 - val_precision_11: 0.9471 - val_recall_11: 0.2955\n",
      "Epoch 19/100\n",
      "27360/27360 [==============================] - 32s 1ms/step - loss: 0.0494 - precision_11: 0.9808 - recall_11: 0.9942 - val_loss: 2.3809 - val_precision_11: 0.9489 - val_recall_11: 0.3371\n",
      "Epoch 20/100\n",
      "27360/27360 [==============================] - 31s 1ms/step - loss: 0.0484 - precision_11: 0.9811 - recall_11: 0.9944 - val_loss: 2.1621 - val_precision_11: 0.9439 - val_recall_11: 0.4035\n",
      "Epoch 21/100\n",
      "27360/27360 [==============================] - 31s 1ms/step - loss: 0.0478 - precision_11: 0.9814 - recall_11: 0.9944 - val_loss: 2.6175 - val_precision_11: 0.9470 - val_recall_11: 0.3217\n",
      "Epoch 22/100\n",
      "27360/27360 [==============================] - 34s 1ms/step - loss: 0.0474 - precision_11: 0.9817 - recall_11: 0.9944 - val_loss: 2.3571 - val_precision_11: 0.9448 - val_recall_11: 0.3843\n",
      "Epoch 23/100\n",
      "27360/27360 [==============================] - 31s 1ms/step - loss: 0.0465 - precision_11: 0.9821 - recall_11: 0.9948 - val_loss: 2.6502 - val_precision_11: 0.9491 - val_recall_11: 0.3150\n",
      "Epoch 24/100\n",
      "27360/27360 [==============================] - 31s 1ms/step - loss: 0.0463 - precision_11: 0.9822 - recall_11: 0.9948 - val_loss: 2.7488 - val_precision_11: 0.9509 - val_recall_11: 0.3222\n",
      "Epoch 25/100\n",
      "27360/27360 [==============================] - 32s 1ms/step - loss: 0.0458 - precision_11: 0.9824 - recall_11: 0.9948 - val_loss: 2.6673 - val_precision_11: 0.9445 - val_recall_11: 0.3434\n",
      "Epoch 26/100\n",
      "27360/27360 [==============================] - 31s 1ms/step - loss: 0.0460 - precision_11: 0.9825 - recall_11: 0.9947 - val_loss: 2.6212 - val_precision_11: 0.9500 - val_recall_11: 0.3199\n",
      "Epoch 27/100\n",
      "27360/27360 [==============================] - 33s 1ms/step - loss: 0.0449 - precision_11: 0.9828 - recall_11: 0.9949 - val_loss: 2.5532 - val_precision_11: 0.9470 - val_recall_11: 0.3498\n",
      "Epoch 28/100\n",
      "27360/27360 [==============================] - 31s 1ms/step - loss: 0.0450 - precision_11: 0.9829 - recall_11: 0.9948 - val_loss: 3.1777 - val_precision_11: 0.9518 - val_recall_11: 0.2669\n",
      "Epoch 29/100\n",
      "27360/27360 [==============================] - 33s 1ms/step - loss: 0.0451 - precision_11: 0.9829 - recall_11: 0.9946 - val_loss: 2.3745 - val_precision_11: 0.9511 - val_recall_11: 0.3752\n",
      "Epoch 30/100\n",
      "27360/27360 [==============================] - 32s 1ms/step - loss: 0.0435 - precision_11: 0.9835 - recall_11: 0.9951 - val_loss: 2.4488 - val_precision_11: 0.9503 - val_recall_11: 0.3772\n",
      "Epoch 31/100\n",
      "27360/27360 [==============================] - 32s 1ms/step - loss: 0.0439 - precision_11: 0.9834 - recall_11: 0.9951 - val_loss: 2.9151 - val_precision_11: 0.9534 - val_recall_11: 0.3094\n",
      "Epoch 32/100\n",
      "27360/27360 [==============================] - 32s 1ms/step - loss: 0.0442 - precision_11: 0.9833 - recall_11: 0.9949 - val_loss: 2.9092 - val_precision_11: 0.9516 - val_recall_11: 0.2870\n",
      "Epoch 33/100\n",
      "27360/27360 [==============================] - 32s 1ms/step - loss: 0.0433 - precision_11: 0.9836 - recall_11: 0.9951 - val_loss: 3.1176 - val_precision_11: 0.9564 - val_recall_11: 0.2691\n",
      "Epoch 34/100\n",
      "27360/27360 [==============================] - 33s 1ms/step - loss: 0.0430 - precision_11: 0.9838 - recall_11: 0.9951 - val_loss: 2.9535 - val_precision_11: 0.9522 - val_recall_11: 0.2936\n",
      "Epoch 35/100\n",
      "27360/27360 [==============================] - 33s 1ms/step - loss: 0.0429 - precision_11: 0.9838 - recall_11: 0.9952 - val_loss: 2.6508 - val_precision_11: 0.9513 - val_recall_11: 0.3388\n",
      "Epoch 36/100\n",
      "27360/27360 [==============================] - 32s 1ms/step - loss: 0.0422 - precision_11: 0.9841 - recall_11: 0.9953 - val_loss: 3.0067 - val_precision_11: 0.9522 - val_recall_11: 0.3034\n",
      "Epoch 37/100\n",
      "27360/27360 [==============================] - 32s 1ms/step - loss: 0.0424 - precision_11: 0.9841 - recall_11: 0.9950 - val_loss: 2.9509 - val_precision_11: 0.9501 - val_recall_11: 0.2834\n",
      "Epoch 38/100\n",
      "27360/27360 [==============================] - 32s 1ms/step - loss: 0.0425 - precision_11: 0.9841 - recall_11: 0.9952 - val_loss: 2.6164 - val_precision_11: 0.9492 - val_recall_11: 0.3438\n",
      "Epoch 39/100\n",
      "27360/27360 [==============================] - 33s 1ms/step - loss: 0.0424 - precision_11: 0.9841 - recall_11: 0.9950 - val_loss: 2.8274 - val_precision_11: 0.9508 - val_recall_11: 0.3300\n",
      "Epoch 40/100\n",
      "27360/27360 [==============================] - 32s 1ms/step - loss: 0.0413 - precision_11: 0.9845 - recall_11: 0.9955 - val_loss: 2.2554 - val_precision_11: 0.9437 - val_recall_11: 0.4120\n",
      "Epoch 41/100\n",
      "27360/27360 [==============================] - 33s 1ms/step - loss: 0.0410 - precision_11: 0.9847 - recall_11: 0.9953 - val_loss: 2.7631 - val_precision_11: 0.9517 - val_recall_11: 0.3259\n",
      "Epoch 42/100\n",
      "27360/27360 [==============================] - 33s 1ms/step - loss: 0.0410 - precision_11: 0.9846 - recall_11: 0.9955 - val_loss: 2.6236 - val_precision_11: 0.9493 - val_recall_11: 0.3535\n",
      "Epoch 43/100\n",
      "27360/27360 [==============================] - 33s 1ms/step - loss: 0.0409 - precision_11: 0.9848 - recall_11: 0.9954 - val_loss: 3.1097 - val_precision_11: 0.9537 - val_recall_11: 0.2990\n",
      "Epoch 44/100\n",
      "27360/27360 [==============================] - 32s 1ms/step - loss: 0.0410 - precision_11: 0.9847 - recall_11: 0.9953 - val_loss: 2.6606 - val_precision_11: 0.9501 - val_recall_11: 0.3538\n",
      "Epoch 45/100\n",
      "27360/27360 [==============================] - 32s 1ms/step - loss: 0.0402 - precision_11: 0.9850 - recall_11: 0.9954 - val_loss: 2.6511 - val_precision_11: 0.9474 - val_recall_11: 0.3554\n",
      "Epoch 46/100\n",
      "27360/27360 [==============================] - 32s 1ms/step - loss: 0.0407 - precision_11: 0.9850 - recall_11: 0.9952 - val_loss: 3.3187 - val_precision_11: 0.9565 - val_recall_11: 0.2690\n",
      "Epoch 47/100\n",
      "27360/27360 [==============================] - 34s 1ms/step - loss: 0.0407 - precision_11: 0.9848 - recall_11: 0.9954 - val_loss: 2.6251 - val_precision_11: 0.9494 - val_recall_11: 0.3504\n",
      "Epoch 48/100\n",
      "27360/27360 [==============================] - 31s 1ms/step - loss: 0.0397 - precision_11: 0.9853 - recall_11: 0.9955 - val_loss: 2.8715 - val_precision_11: 0.9469 - val_recall_11: 0.3329\n",
      "Epoch 49/100\n",
      "27360/27360 [==============================] - 32s 1ms/step - loss: 0.0403 - precision_11: 0.9851 - recall_11: 0.9954 - val_loss: 2.9717 - val_precision_11: 0.9521 - val_recall_11: 0.3223\n",
      "Epoch 50/100\n",
      "27360/27360 [==============================] - 31s 1ms/step - loss: 0.0401 - precision_11: 0.9852 - recall_11: 0.9954 - val_loss: 2.9975 - val_precision_11: 0.9520 - val_recall_11: 0.3101\n",
      "Epoch 51/100\n",
      "27360/27360 [==============================] - 32s 1ms/step - loss: 0.0392 - precision_11: 0.9855 - recall_11: 0.9956 - val_loss: 3.7178 - val_precision_11: 0.9560 - val_recall_11: 0.2452\n",
      "Epoch 51: early stopping\n"
     ]
    }
   ],
   "source": [
    "epochs = 100\n",
    "batch_size=32\n",
    "\n",
    "model = make_model(X_train.shape[1:], 50)\n",
    "keras.utils.plot_model(model, show_shapes=True)\n",
    "\n",
    "callbacks = [keras.callbacks.ModelCheckpoint('best_model.h5', save_best_only=True, monitor='val_loss'), \n",
    "             keras.callbacks.EarlyStopping(monitor='val_loss', patience=50, verbose=1)]\n",
    "\n",
    "opt = keras.optimizers.SGD(learning_rate=0.01, momentum=0.9)\n",
    "model.compile(optimizer=opt, loss='binary_crossentropy', metrics=[keras.metrics.Precision(), keras.metrics.Recall()])\n",
    "history = model.fit(X_train, y_train, batch_size=batch_size, epochs=epochs, validation_data=(X_test, y_test), callbacks=callbacks, verbose=1)"
   ]
  },
  {
   "cell_type": "code",
   "execution_count": 19,
   "metadata": {},
   "outputs": [
    {
     "name": "stdout",
     "output_type": "stream",
     "text": [
      "              precision    recall  f1-score   support\n",
      "\n",
      "         0.0       0.85      0.95      0.89    306424\n",
      "         1.0       0.94      0.83      0.88    306424\n",
      "\n",
      "    accuracy                           0.89    612848\n",
      "   macro avg       0.89      0.89      0.89    612848\n",
      "weighted avg       0.89      0.89      0.89    612848\n",
      "\n",
      "              precision    recall  f1-score   support\n",
      "\n",
      "         0.0       0.87      0.95      0.90    131324\n",
      "         1.0       0.94      0.86      0.90    131324\n",
      "\n",
      "    accuracy                           0.90    262648\n",
      "   macro avg       0.90      0.90      0.90    262648\n",
      "weighted avg       0.90      0.90      0.90    262648\n",
      "\n"
     ]
    }
   ],
   "source": [
    "best_model = keras.models.load_model('best_model.h5')\n",
    "\n",
    "print(classification_report(y_test, np.round(best_model.predict(X_test),0)))\n",
    "print(classification_report(y_val, np.round(best_model.predict(X_val),0)))"
   ]
  },
  {
   "cell_type": "code",
   "execution_count": null,
   "metadata": {},
   "outputs": [],
   "source": []
  }
 ],
 "metadata": {
  "kernelspec": {
   "display_name": "Python 3",
   "language": "python",
   "name": "python3"
  },
  "language_info": {
   "codemirror_mode": {
    "name": "ipython",
    "version": 3
   },
   "file_extension": ".py",
   "mimetype": "text/x-python",
   "name": "python",
   "nbconvert_exporter": "python",
   "pygments_lexer": "ipython3",
   "version": "3.8.5"
  }
 },
 "nbformat": 4,
 "nbformat_minor": 4
}
